{
 "cells": [
  {
   "cell_type": "markdown",
   "metadata": {},
   "source": [
    "# Airline Reliability\n",
    "This notebook is using the airline delay causes dataset from Kaggle, https://www.kaggle.com/giovamata/airlinedelaycauses.\n",
    "\n",
    "The analysis of this data will aim to anser the following questions:\n",
    "\n",
    "1. Which day of the week is the worst day for flight arrival delays? (Answered)\n",
    "\n",
    "2. Is there a period throughout the year where arrival delays are higher than average?\n",
    "\n",
    "3. Which flight routes have the most arrival delay?\n",
    "\n",
    "4. Which airline is the most reliable?\n",
    "\n",
    "5. What is the leading cause for arrival delay in airlines?"
   ]
  },
  {
   "cell_type": "code",
   "execution_count": 1,
   "metadata": {},
   "outputs": [
    {
     "data": {
      "text/html": [
       "<div>\n",
       "<style scoped>\n",
       "    .dataframe tbody tr th:only-of-type {\n",
       "        vertical-align: middle;\n",
       "    }\n",
       "\n",
       "    .dataframe tbody tr th {\n",
       "        vertical-align: top;\n",
       "    }\n",
       "\n",
       "    .dataframe thead th {\n",
       "        text-align: right;\n",
       "    }\n",
       "</style>\n",
       "<table border=\"1\" class=\"dataframe\">\n",
       "  <thead>\n",
       "    <tr style=\"text-align: right;\">\n",
       "      <th></th>\n",
       "      <th>Year</th>\n",
       "      <th>Month</th>\n",
       "      <th>DayofMonth</th>\n",
       "      <th>DayOfWeek</th>\n",
       "      <th>DepTime</th>\n",
       "      <th>CRSDepTime</th>\n",
       "      <th>ArrTime</th>\n",
       "      <th>CRSArrTime</th>\n",
       "      <th>UniqueCarrier</th>\n",
       "      <th>FlightNum</th>\n",
       "      <th>...</th>\n",
       "      <th>TaxiIn</th>\n",
       "      <th>TaxiOut</th>\n",
       "      <th>Cancelled</th>\n",
       "      <th>CancellationCode</th>\n",
       "      <th>Diverted</th>\n",
       "      <th>CarrierDelay</th>\n",
       "      <th>WeatherDelay</th>\n",
       "      <th>NASDelay</th>\n",
       "      <th>SecurityDelay</th>\n",
       "      <th>LateAircraftDelay</th>\n",
       "    </tr>\n",
       "  </thead>\n",
       "  <tbody>\n",
       "    <tr>\n",
       "      <th>0</th>\n",
       "      <td>2008</td>\n",
       "      <td>1</td>\n",
       "      <td>3</td>\n",
       "      <td>4</td>\n",
       "      <td>2003.0</td>\n",
       "      <td>1955</td>\n",
       "      <td>2211.0</td>\n",
       "      <td>2225</td>\n",
       "      <td>WN</td>\n",
       "      <td>335</td>\n",
       "      <td>...</td>\n",
       "      <td>4.0</td>\n",
       "      <td>8.0</td>\n",
       "      <td>0</td>\n",
       "      <td>N</td>\n",
       "      <td>0</td>\n",
       "      <td>NaN</td>\n",
       "      <td>NaN</td>\n",
       "      <td>NaN</td>\n",
       "      <td>NaN</td>\n",
       "      <td>NaN</td>\n",
       "    </tr>\n",
       "    <tr>\n",
       "      <th>1</th>\n",
       "      <td>2008</td>\n",
       "      <td>1</td>\n",
       "      <td>3</td>\n",
       "      <td>4</td>\n",
       "      <td>754.0</td>\n",
       "      <td>735</td>\n",
       "      <td>1002.0</td>\n",
       "      <td>1000</td>\n",
       "      <td>WN</td>\n",
       "      <td>3231</td>\n",
       "      <td>...</td>\n",
       "      <td>5.0</td>\n",
       "      <td>10.0</td>\n",
       "      <td>0</td>\n",
       "      <td>N</td>\n",
       "      <td>0</td>\n",
       "      <td>NaN</td>\n",
       "      <td>NaN</td>\n",
       "      <td>NaN</td>\n",
       "      <td>NaN</td>\n",
       "      <td>NaN</td>\n",
       "    </tr>\n",
       "    <tr>\n",
       "      <th>2</th>\n",
       "      <td>2008</td>\n",
       "      <td>1</td>\n",
       "      <td>3</td>\n",
       "      <td>4</td>\n",
       "      <td>628.0</td>\n",
       "      <td>620</td>\n",
       "      <td>804.0</td>\n",
       "      <td>750</td>\n",
       "      <td>WN</td>\n",
       "      <td>448</td>\n",
       "      <td>...</td>\n",
       "      <td>3.0</td>\n",
       "      <td>17.0</td>\n",
       "      <td>0</td>\n",
       "      <td>N</td>\n",
       "      <td>0</td>\n",
       "      <td>NaN</td>\n",
       "      <td>NaN</td>\n",
       "      <td>NaN</td>\n",
       "      <td>NaN</td>\n",
       "      <td>NaN</td>\n",
       "    </tr>\n",
       "    <tr>\n",
       "      <th>4</th>\n",
       "      <td>2008</td>\n",
       "      <td>1</td>\n",
       "      <td>3</td>\n",
       "      <td>4</td>\n",
       "      <td>1829.0</td>\n",
       "      <td>1755</td>\n",
       "      <td>1959.0</td>\n",
       "      <td>1925</td>\n",
       "      <td>WN</td>\n",
       "      <td>3920</td>\n",
       "      <td>...</td>\n",
       "      <td>3.0</td>\n",
       "      <td>10.0</td>\n",
       "      <td>0</td>\n",
       "      <td>N</td>\n",
       "      <td>0</td>\n",
       "      <td>2.0</td>\n",
       "      <td>0.0</td>\n",
       "      <td>0.0</td>\n",
       "      <td>0.0</td>\n",
       "      <td>32.0</td>\n",
       "    </tr>\n",
       "    <tr>\n",
       "      <th>5</th>\n",
       "      <td>2008</td>\n",
       "      <td>1</td>\n",
       "      <td>3</td>\n",
       "      <td>4</td>\n",
       "      <td>1940.0</td>\n",
       "      <td>1915</td>\n",
       "      <td>2121.0</td>\n",
       "      <td>2110</td>\n",
       "      <td>WN</td>\n",
       "      <td>378</td>\n",
       "      <td>...</td>\n",
       "      <td>4.0</td>\n",
       "      <td>10.0</td>\n",
       "      <td>0</td>\n",
       "      <td>N</td>\n",
       "      <td>0</td>\n",
       "      <td>NaN</td>\n",
       "      <td>NaN</td>\n",
       "      <td>NaN</td>\n",
       "      <td>NaN</td>\n",
       "      <td>NaN</td>\n",
       "    </tr>\n",
       "  </tbody>\n",
       "</table>\n",
       "<p>5 rows × 29 columns</p>\n",
       "</div>"
      ],
      "text/plain": [
       "   Year  Month  DayofMonth  DayOfWeek  DepTime  CRSDepTime  ArrTime  \\\n",
       "0  2008      1           3          4   2003.0        1955   2211.0   \n",
       "1  2008      1           3          4    754.0         735   1002.0   \n",
       "2  2008      1           3          4    628.0         620    804.0   \n",
       "4  2008      1           3          4   1829.0        1755   1959.0   \n",
       "5  2008      1           3          4   1940.0        1915   2121.0   \n",
       "\n",
       "   CRSArrTime UniqueCarrier  FlightNum        ...         TaxiIn  TaxiOut  \\\n",
       "0        2225            WN        335        ...            4.0      8.0   \n",
       "1        1000            WN       3231        ...            5.0     10.0   \n",
       "2         750            WN        448        ...            3.0     17.0   \n",
       "4        1925            WN       3920        ...            3.0     10.0   \n",
       "5        2110            WN        378        ...            4.0     10.0   \n",
       "\n",
       "   Cancelled  CancellationCode  Diverted  CarrierDelay WeatherDelay NASDelay  \\\n",
       "0          0                 N         0           NaN          NaN      NaN   \n",
       "1          0                 N         0           NaN          NaN      NaN   \n",
       "2          0                 N         0           NaN          NaN      NaN   \n",
       "4          0                 N         0           2.0          0.0      0.0   \n",
       "5          0                 N         0           NaN          NaN      NaN   \n",
       "\n",
       "   SecurityDelay  LateAircraftDelay  \n",
       "0            NaN                NaN  \n",
       "1            NaN                NaN  \n",
       "2            NaN                NaN  \n",
       "4            0.0               32.0  \n",
       "5            NaN                NaN  \n",
       "\n",
       "[5 rows x 29 columns]"
      ]
     },
     "execution_count": 1,
     "metadata": {},
     "output_type": "execute_result"
    }
   ],
   "source": [
    "import numpy as np\n",
    "import pandas as pd\n",
    "import matplotlib.pyplot as plt\n",
    "from sklearn.linear_model import LinearRegression\n",
    "from sklearn.model_selection import train_test_split\n",
    "from sklearn.metrics import r2_score, mean_squared_error\n",
    "import seaborn as sns\n",
    "\n",
    "from scipy.interpolate import spline\n",
    "\n",
    "import warnings; warnings.simplefilter('ignore')\n",
    "\n",
    "%matplotlib inline\n",
    "\n",
    "df = pd.read_csv('./source/DelayedFlights.csv', index_col=0)                \n",
    "df.head()"
   ]
  },
  {
   "cell_type": "code",
   "execution_count": 2,
   "metadata": {},
   "outputs": [
    {
     "data": {
      "text/plain": [
       "Index(['Year', 'Month', 'DayofMonth', 'DayOfWeek', 'DepTime', 'CRSDepTime',\n",
       "       'ArrTime', 'CRSArrTime', 'UniqueCarrier', 'FlightNum', 'TailNum',\n",
       "       'ActualElapsedTime', 'CRSElapsedTime', 'AirTime', 'ArrDelay',\n",
       "       'DepDelay', 'Origin', 'Dest', 'Distance', 'TaxiIn', 'TaxiOut',\n",
       "       'Cancelled', 'CancellationCode', 'Diverted', 'CarrierDelay',\n",
       "       'WeatherDelay', 'NASDelay', 'SecurityDelay', 'LateAircraftDelay'],\n",
       "      dtype='object')"
      ]
     },
     "execution_count": 2,
     "metadata": {},
     "output_type": "execute_result"
    }
   ],
   "source": [
    "df.columns"
   ]
  },
  {
   "cell_type": "markdown",
   "metadata": {},
   "source": [
    "Now that the data is imported the value add of each column needs to be determined.\n",
    "\n",
    "Columns may need dropping or transforming depending on content.\n",
    "\n",
    "The value of some columns can be determined by their description; Month, DayofMonth, DayofWeek, CRSDepTime, CRSArrTime, UniqueCarrier, CSRElapsedTime, ArrDelay, DepDelay, Origin, Dest, Distance are all of use in the prediction of delayed flights.\n",
    "\n",
    "Columns with reported statistics, as opposed to plan are; Month, DayofMonth, DayOfWeek, DepTime, ArrTime, UniqueCarrier, ActualElapsedTime, AirTime, ArrDelay, DepDelay, Origin, Dest, Distance, and the various Delay fields. \n",
    "\n",
    "Fields that do not inititally appear of value are; Year, FlightNum, TailNum, TaxiIn, TaxiOut, Cancelled, CancellationCode & Diverted."
   ]
  },
  {
   "cell_type": "code",
   "execution_count": 3,
   "metadata": {},
   "outputs": [
    {
     "name": "stdout",
     "output_type": "stream",
     "text": [
      "2008    1936758\n",
      "Name: Year, dtype: int64\n",
      "\n",
      "\n",
      "16    1586\n",
      "50    1550\n",
      "40    1507\n",
      "15    1471\n",
      "44    1447\n",
      "Name: FlightNum, dtype: int64\n",
      "\n",
      "\n",
      "N325SW    965\n",
      "N676SW    951\n",
      "N658SW    945\n",
      "N313SW    937\n",
      "N308SA    936\n",
      "Name: TailNum, dtype: int64\n",
      "\n",
      "\n",
      "4.0    323427\n",
      "5.0    314063\n",
      "6.0    239676\n",
      "3.0    234686\n",
      "7.0    177889\n",
      "Name: TaxiIn, dtype: int64\n",
      "\n",
      "\n",
      "11.0    129633\n",
      "10.0    129556\n",
      "12.0    126355\n",
      "13.0    119526\n",
      "9.0     118894\n",
      "Name: TaxiOut, dtype: int64\n",
      "\n",
      "\n",
      "0    1936125\n",
      "1        633\n",
      "Name: Cancelled, dtype: int64\n",
      "\n",
      "\n",
      "N    1936125\n",
      "B        307\n",
      "A        246\n",
      "C         80\n",
      "Name: CancellationCode, dtype: int64\n",
      "\n",
      "\n",
      "0    1929004\n",
      "1       7754\n",
      "Name: Diverted, dtype: int64\n",
      "\n",
      "\n"
     ]
    }
   ],
   "source": [
    "cols_to_check = ['Year', 'FlightNum', 'TailNum', 'TaxiIn', 'TaxiOut', 'Cancelled', 'CancellationCode', 'Diverted']\n",
    "\n",
    "for col in cols_to_check:\n",
    "    print(df[col].value_counts().head())\n",
    "    print('\\n')"
   ]
  },
  {
   "cell_type": "markdown",
   "metadata": {},
   "source": [
    "<b>Year:</b> All fields are from 2008, this column will be dropped. <br>\n",
    "<b>FlightNum:</b> The flight number is not relevant at this level of analysis, this column will be dropped. <br>\n",
    "<b>TailNum:</b> The tail number is not relevant at this level of analysis, this column will be dropped. <br>\n",
    "<b>TaxiIn/TaxiOut:</b> The taxi times are not relavent as delay times are recorded separately, these columns will be dropped.  <br>\n",
    "<b>Cancelled:</b> Cancelled flights will not have a dealy time, this column will be dropped. <br>\n",
    "<b>CancellationCode:</b> Cancelled flights are dropped so this column holds no value, this column will be dropped. <br>\n",
    "<b>Diverted:</b> Diverted flights may contribute to delays, this column will be re-analyzed once data is cleaned.  "
   ]
  },
  {
   "cell_type": "code",
   "execution_count": 4,
   "metadata": {},
   "outputs": [],
   "source": [
    "df = df.drop(['Year','FlightNum','TailNum','TaxiIn','TaxiOut','Cancelled','CancellationCode'], axis=1)"
   ]
  },
  {
   "cell_type": "markdown",
   "metadata": {},
   "source": [
    "Inital columns have been dropped, now the data needs to be checkhed for validity and consistency."
   ]
  },
  {
   "cell_type": "code",
   "execution_count": 5,
   "metadata": {},
   "outputs": [
    {
     "data": {
      "image/png": "[encoded data removed]",
      "text/plain": [
       "<Figure size 432x288 with 1 Axes>"
      ]
     },
     "metadata": {
      "needs_background": "light"
     },
     "output_type": "display_data"
    }
   ],
   "source": [
    "(df.count() / df.shape[0]).plot(kind=\"bar\");"
   ]
  },
  {
   "cell_type": "markdown",
   "metadata": {},
   "source": [
    "As seen above the various delay cause fields are missing approximately 35% of their data. <br>\n",
    "One of the questions in the anlaysis of this data is to identify the leading cause of delays, to accomodate this any row containing no data in the delay cuase fields will be dropped."
   ]
  },
  {
   "cell_type": "code",
   "execution_count": 6,
   "metadata": {},
   "outputs": [],
   "source": [
    "pre_na_drop = df.shape[0]"
   ]
  },
  {
   "cell_type": "code",
   "execution_count": 7,
   "metadata": {},
   "outputs": [],
   "source": [
    "df = df.dropna(subset=['CarrierDelay','WeatherDelay','NASDelay','SecurityDelay','LateAircraftDelay'])\n",
    "df = df.reset_index()"
   ]
  },
  {
   "cell_type": "code",
   "execution_count": 8,
   "metadata": {},
   "outputs": [],
   "source": [
    "df = df.drop('index', axis=1)"
   ]
  },
  {
   "cell_type": "code",
   "execution_count": 9,
   "metadata": {},
   "outputs": [
    {
     "name": "stdout",
     "output_type": "stream",
     "text": [
      "Remaining rows from original dataset: 64.41\n"
     ]
    }
   ],
   "source": [
    "print('Remaining rows from original dataset:',round((df.shape[0] / pre_na_drop) * 100, 2))"
   ]
  },
  {
   "cell_type": "markdown",
   "metadata": {},
   "source": [
    "The missing data has now been removed, next is to map any categorical or object data that is not in an appropriate format. <br>\n",
    "\n",
    "The three fields identified below, Dest, Origin & Unique Carrier will be transformed.\n",
    "\n",
    "<b>UniqueCarrier:</b> This field will be mapped to a numerical value and a dictionary maintained for reverse transforms. </br>\n",
    "<b>Origin/Dest:</b> These fields will be concatenated into the format `Origin - Dest` and then go through the mapping process as above. </br>"
   ]
  },
  {
   "cell_type": "code",
   "execution_count": 10,
   "metadata": {},
   "outputs": [
    {
     "data": {
      "text/plain": [
       "{'Dest', 'Origin', 'UniqueCarrier'}"
      ]
     },
     "execution_count": 10,
     "metadata": {},
     "output_type": "execute_result"
    }
   ],
   "source": [
    "object_data = set(df.select_dtypes(include=['object']).columns)\n",
    "\n",
    "object_data"
   ]
  },
  {
   "cell_type": "code",
   "execution_count": 11,
   "metadata": {},
   "outputs": [],
   "source": [
    "df['Route'] = df['Origin'] + \" - \" + df['Dest']\n",
    "df = df.drop(['Dest','Origin'], axis=1)"
   ]
  },
  {
   "cell_type": "code",
   "execution_count": 12,
   "metadata": {},
   "outputs": [],
   "source": [
    "uniqueRouteDict = dict(enumerate(df['Route'].astype('category').cat.categories))\n",
    "df['Route'] = df['Route'].astype('category').cat.codes"
   ]
  },
  {
   "cell_type": "code",
   "execution_count": 13,
   "metadata": {},
   "outputs": [],
   "source": [
    "uniqueCarrierDict = dict(enumerate(df['UniqueCarrier'].astype('category').cat.categories))\n",
    "df['UniqueCarrier'] = df['UniqueCarrier'].astype('category').cat.codes"
   ]
  },
  {
   "cell_type": "code",
   "execution_count": 14,
   "metadata": {},
   "outputs": [],
   "source": [
    "float_data = set(df.select_dtypes(include=['float64']).columns)\n",
    "\n",
    "for col in float_data:\n",
    "    df[col] = df[col].astype('int16')"
   ]
  },
  {
   "cell_type": "markdown",
   "metadata": {},
   "source": [
    "The dataframe is reporting a mix of float and int data type, within this data there is no need for the float data type so it has been converted to int.\n",
    "\n",
    "At this point all categorical data has been transformed appropriately."
   ]
  },
  {
   "cell_type": "markdown",
   "metadata": {},
   "source": [
    "## Days of the week"
   ]
  },
  {
   "cell_type": "code",
   "execution_count": 15,
   "metadata": {},
   "outputs": [
    {
     "data": {
      "image/png": "[encoded data removed]",
      "text/plain": [
       "<Figure size 432x288 with 1 Axes>"
      ]
     },
     "metadata": {
      "needs_background": "light"
     },
     "output_type": "display_data"
    }
   ],
   "source": [
    "df['DayOfWeek'].value_counts()\n",
    "(df['DayOfWeek'].value_counts()).plot(kind=\"bar\");"
   ]
  },
  {
   "cell_type": "markdown",
   "metadata": {},
   "source": [
    "The above chart shows the day of the week for flights, 1 = Monday, 7 = Sunday.\n",
    "The most popular day of the week to travel on is Friday and Saturday being the least popular.\n",
    "Every other day is in a median range."
   ]
  },
  {
   "cell_type": "code",
   "execution_count": 16,
   "metadata": {},
   "outputs": [],
   "source": [
    "delay_by_day = (df.groupby('DayOfWeek', as_index=False)\n",
    "       .agg({'ArrDelay':'mean','CarrierDelay':'mean', 'WeatherDelay':'mean','NASDelay':'mean','SecurityDelay':'mean','LateAircraftDelay':'mean'}))"
   ]
  },
  {
   "cell_type": "code",
   "execution_count": 17,
   "metadata": {},
   "outputs": [
    {
     "data": {
      "text/html": [
       "<div>\n",
       "<style scoped>\n",
       "    .dataframe tbody tr th:only-of-type {\n",
       "        vertical-align: middle;\n",
       "    }\n",
       "\n",
       "    .dataframe tbody tr th {\n",
       "        vertical-align: top;\n",
       "    }\n",
       "\n",
       "    .dataframe thead th {\n",
       "        text-align: right;\n",
       "    }\n",
       "</style>\n",
       "<table border=\"1\" class=\"dataframe\">\n",
       "  <thead>\n",
       "    <tr style=\"text-align: right;\">\n",
       "      <th></th>\n",
       "      <th>DayOfWeek</th>\n",
       "      <th>ArrDelay</th>\n",
       "      <th>CarrierDelay</th>\n",
       "      <th>WeatherDelay</th>\n",
       "      <th>NASDelay</th>\n",
       "      <th>SecurityDelay</th>\n",
       "      <th>LateAircraftDelay</th>\n",
       "    </tr>\n",
       "  </thead>\n",
       "  <tbody>\n",
       "    <tr>\n",
       "      <th>2</th>\n",
       "      <td>3</td>\n",
       "      <td>61.041335</td>\n",
       "      <td>19.213996</td>\n",
       "      <td>3.387808</td>\n",
       "      <td>14.709697</td>\n",
       "      <td>0.087040</td>\n",
       "      <td>23.642793</td>\n",
       "    </tr>\n",
       "    <tr>\n",
       "      <th>3</th>\n",
       "      <td>4</td>\n",
       "      <td>61.348052</td>\n",
       "      <td>18.360238</td>\n",
       "      <td>3.647854</td>\n",
       "      <td>14.624468</td>\n",
       "      <td>0.083608</td>\n",
       "      <td>24.631885</td>\n",
       "    </tr>\n",
       "    <tr>\n",
       "      <th>5</th>\n",
       "      <td>6</td>\n",
       "      <td>62.151388</td>\n",
       "      <td>22.038966</td>\n",
       "      <td>3.990661</td>\n",
       "      <td>12.518273</td>\n",
       "      <td>0.146978</td>\n",
       "      <td>23.456511</td>\n",
       "    </tr>\n",
       "    <tr>\n",
       "      <th>0</th>\n",
       "      <td>1</td>\n",
       "      <td>62.752050</td>\n",
       "      <td>19.376672</td>\n",
       "      <td>3.346693</td>\n",
       "      <td>14.476062</td>\n",
       "      <td>0.079685</td>\n",
       "      <td>25.472937</td>\n",
       "    </tr>\n",
       "    <tr>\n",
       "      <th>4</th>\n",
       "      <td>5</td>\n",
       "      <td>63.433851</td>\n",
       "      <td>17.795664</td>\n",
       "      <td>3.580344</td>\n",
       "      <td>15.478843</td>\n",
       "      <td>0.085355</td>\n",
       "      <td>26.493645</td>\n",
       "    </tr>\n",
       "    <tr>\n",
       "      <th>1</th>\n",
       "      <td>2</td>\n",
       "      <td>65.056200</td>\n",
       "      <td>18.367989</td>\n",
       "      <td>4.120911</td>\n",
       "      <td>17.078724</td>\n",
       "      <td>0.076329</td>\n",
       "      <td>25.412248</td>\n",
       "    </tr>\n",
       "    <tr>\n",
       "      <th>6</th>\n",
       "      <td>7</td>\n",
       "      <td>66.890671</td>\n",
       "      <td>20.009450</td>\n",
       "      <td>3.953517</td>\n",
       "      <td>15.687468</td>\n",
       "      <td>0.086309</td>\n",
       "      <td>27.153928</td>\n",
       "    </tr>\n",
       "  </tbody>\n",
       "</table>\n",
       "</div>"
      ],
      "text/plain": [
       "   DayOfWeek   ArrDelay  CarrierDelay  WeatherDelay   NASDelay  SecurityDelay  \\\n",
       "2          3  61.041335     19.213996      3.387808  14.709697       0.087040   \n",
       "3          4  61.348052     18.360238      3.647854  14.624468       0.083608   \n",
       "5          6  62.151388     22.038966      3.990661  12.518273       0.146978   \n",
       "0          1  62.752050     19.376672      3.346693  14.476062       0.079685   \n",
       "4          5  63.433851     17.795664      3.580344  15.478843       0.085355   \n",
       "1          2  65.056200     18.367989      4.120911  17.078724       0.076329   \n",
       "6          7  66.890671     20.009450      3.953517  15.687468       0.086309   \n",
       "\n",
       "   LateAircraftDelay  \n",
       "2          23.642793  \n",
       "3          24.631885  \n",
       "5          23.456511  \n",
       "0          25.472937  \n",
       "4          26.493645  \n",
       "1          25.412248  \n",
       "6          27.153928  "
      ]
     },
     "execution_count": 17,
     "metadata": {},
     "output_type": "execute_result"
    }
   ],
   "source": [
    "delay_by_day.sort_values(by='ArrDelay')"
   ]
  },
  {
   "cell_type": "markdown",
   "metadata": {},
   "source": [
    "The data above shows that flying on a Sunday is likely to result in the most delays. A Wedneday is the least likely to result in delays. \n",
    "\n",
    "The variance for overall delay could be considered low, there is an approximately five minute difference between Sunday and Wednesday. "
   ]
  },
  {
   "cell_type": "markdown",
   "metadata": {},
   "source": [
    "## Months of the year"
   ]
  },
  {
   "cell_type": "code",
   "execution_count": 18,
   "metadata": {},
   "outputs": [],
   "source": [
    "delay_by_month = (df.groupby('Month', as_index=False)\n",
    "       .agg({'ArrDelay':'mean','CarrierDelay':'mean', 'WeatherDelay':'mean','NASDelay':'mean','SecurityDelay':'mean','LateAircraftDelay':'mean'}))"
   ]
  },
  {
   "cell_type": "code",
   "execution_count": 19,
   "metadata": {},
   "outputs": [
    {
     "data": {
      "text/html": [
       "<div>\n",
       "<style scoped>\n",
       "    .dataframe tbody tr th:only-of-type {\n",
       "        vertical-align: middle;\n",
       "    }\n",
       "\n",
       "    .dataframe tbody tr th {\n",
       "        vertical-align: top;\n",
       "    }\n",
       "\n",
       "    .dataframe thead th {\n",
       "        text-align: right;\n",
       "    }\n",
       "</style>\n",
       "<table border=\"1\" class=\"dataframe\">\n",
       "  <thead>\n",
       "    <tr style=\"text-align: right;\">\n",
       "      <th></th>\n",
       "      <th>Month</th>\n",
       "      <th>ArrDelay</th>\n",
       "      <th>CarrierDelay</th>\n",
       "      <th>WeatherDelay</th>\n",
       "      <th>NASDelay</th>\n",
       "      <th>SecurityDelay</th>\n",
       "      <th>LateAircraftDelay</th>\n",
       "    </tr>\n",
       "  </thead>\n",
       "  <tbody>\n",
       "    <tr>\n",
       "      <th>0</th>\n",
       "      <td>1</td>\n",
       "      <td>63.047133</td>\n",
       "      <td>19.354470</td>\n",
       "      <td>3.530053</td>\n",
       "      <td>14.407299</td>\n",
       "      <td>0.102711</td>\n",
       "      <td>25.652600</td>\n",
       "    </tr>\n",
       "    <tr>\n",
       "      <th>1</th>\n",
       "      <td>2</td>\n",
       "      <td>64.170790</td>\n",
       "      <td>18.507422</td>\n",
       "      <td>4.207895</td>\n",
       "      <td>14.532052</td>\n",
       "      <td>0.086024</td>\n",
       "      <td>26.837397</td>\n",
       "    </tr>\n",
       "    <tr>\n",
       "      <th>2</th>\n",
       "      <td>3</td>\n",
       "      <td>62.081595</td>\n",
       "      <td>19.188412</td>\n",
       "      <td>3.610672</td>\n",
       "      <td>13.664191</td>\n",
       "      <td>0.111840</td>\n",
       "      <td>25.506481</td>\n",
       "    </tr>\n",
       "    <tr>\n",
       "      <th>3</th>\n",
       "      <td>4</td>\n",
       "      <td>59.414580</td>\n",
       "      <td>19.657297</td>\n",
       "      <td>2.748136</td>\n",
       "      <td>13.616508</td>\n",
       "      <td>0.077583</td>\n",
       "      <td>23.315056</td>\n",
       "    </tr>\n",
       "    <tr>\n",
       "      <th>4</th>\n",
       "      <td>5</td>\n",
       "      <td>58.371703</td>\n",
       "      <td>18.068723</td>\n",
       "      <td>2.523910</td>\n",
       "      <td>14.009781</td>\n",
       "      <td>0.102340</td>\n",
       "      <td>23.666948</td>\n",
       "    </tr>\n",
       "    <tr>\n",
       "      <th>5</th>\n",
       "      <td>6</td>\n",
       "      <td>66.167549</td>\n",
       "      <td>18.124587</td>\n",
       "      <td>4.179695</td>\n",
       "      <td>17.568216</td>\n",
       "      <td>0.077266</td>\n",
       "      <td>26.217786</td>\n",
       "    </tr>\n",
       "    <tr>\n",
       "      <th>6</th>\n",
       "      <td>7</td>\n",
       "      <td>68.081228</td>\n",
       "      <td>20.168679</td>\n",
       "      <td>4.648513</td>\n",
       "      <td>17.511306</td>\n",
       "      <td>0.109670</td>\n",
       "      <td>25.643061</td>\n",
       "    </tr>\n",
       "    <tr>\n",
       "      <th>7</th>\n",
       "      <td>8</td>\n",
       "      <td>64.612224</td>\n",
       "      <td>21.107413</td>\n",
       "      <td>3.961263</td>\n",
       "      <td>14.723465</td>\n",
       "      <td>0.073378</td>\n",
       "      <td>24.746705</td>\n",
       "    </tr>\n",
       "    <tr>\n",
       "      <th>8</th>\n",
       "      <td>9</td>\n",
       "      <td>57.814318</td>\n",
       "      <td>21.715276</td>\n",
       "      <td>2.807024</td>\n",
       "      <td>14.169841</td>\n",
       "      <td>0.085064</td>\n",
       "      <td>19.037111</td>\n",
       "    </tr>\n",
       "    <tr>\n",
       "      <th>9</th>\n",
       "      <td>10</td>\n",
       "      <td>54.341281</td>\n",
       "      <td>19.950980</td>\n",
       "      <td>1.836139</td>\n",
       "      <td>12.343436</td>\n",
       "      <td>0.090892</td>\n",
       "      <td>20.119834</td>\n",
       "    </tr>\n",
       "    <tr>\n",
       "      <th>10</th>\n",
       "      <td>11</td>\n",
       "      <td>60.461676</td>\n",
       "      <td>17.460876</td>\n",
       "      <td>2.183476</td>\n",
       "      <td>16.861017</td>\n",
       "      <td>0.062648</td>\n",
       "      <td>23.893658</td>\n",
       "    </tr>\n",
       "    <tr>\n",
       "      <th>11</th>\n",
       "      <td>12</td>\n",
       "      <td>69.083319</td>\n",
       "      <td>18.321837</td>\n",
       "      <td>5.281680</td>\n",
       "      <td>15.136794</td>\n",
       "      <td>0.085476</td>\n",
       "      <td>30.257531</td>\n",
       "    </tr>\n",
       "  </tbody>\n",
       "</table>\n",
       "</div>"
      ],
      "text/plain": [
       "    Month   ArrDelay  CarrierDelay  WeatherDelay   NASDelay  SecurityDelay  \\\n",
       "0       1  63.047133     19.354470      3.530053  14.407299       0.102711   \n",
       "1       2  64.170790     18.507422      4.207895  14.532052       0.086024   \n",
       "2       3  62.081595     19.188412      3.610672  13.664191       0.111840   \n",
       "3       4  59.414580     19.657297      2.748136  13.616508       0.077583   \n",
       "4       5  58.371703     18.068723      2.523910  14.009781       0.102340   \n",
       "5       6  66.167549     18.124587      4.179695  17.568216       0.077266   \n",
       "6       7  68.081228     20.168679      4.648513  17.511306       0.109670   \n",
       "7       8  64.612224     21.107413      3.961263  14.723465       0.073378   \n",
       "8       9  57.814318     21.715276      2.807024  14.169841       0.085064   \n",
       "9      10  54.341281     19.950980      1.836139  12.343436       0.090892   \n",
       "10     11  60.461676     17.460876      2.183476  16.861017       0.062648   \n",
       "11     12  69.083319     18.321837      5.281680  15.136794       0.085476   \n",
       "\n",
       "    LateAircraftDelay  \n",
       "0           25.652600  \n",
       "1           26.837397  \n",
       "2           25.506481  \n",
       "3           23.315056  \n",
       "4           23.666948  \n",
       "5           26.217786  \n",
       "6           25.643061  \n",
       "7           24.746705  \n",
       "8           19.037111  \n",
       "9           20.119834  \n",
       "10          23.893658  \n",
       "11          30.257531  "
      ]
     },
     "execution_count": 19,
     "metadata": {},
     "output_type": "execute_result"
    }
   ],
   "source": [
    "delay_by_month.sort_values(by='Month')"
   ]
  },
  {
   "cell_type": "code",
   "execution_count": 21,
   "metadata": {},
   "outputs": [
    {
     "data": {
      "text/plain": [
       "[<matplotlib.lines.Line2D at 0x7f5dafbaf160>]"
      ]
     },
     "execution_count": 21,
     "metadata": {},
     "output_type": "execute_result"
    },
    {
     "data": {
      "image/png": "[encoded data removed]",
      "text/plain": [
       "<Figure size 432x288 with 1 Axes>"
      ]
     },
     "metadata": {
      "needs_background": "light"
     },
     "output_type": "display_data"
    }
   ],
   "source": [
    "month_map = {1:'Jan',2:'Feb',3:'Mar',4:'Apr',5:'May',6:'Jun',7:'Jul',8:'Aug',9:'Sep',10:'Oct',11:'Nov',12:'Dec'}\n",
    "\n",
    "arr_del = delay_by_month['ArrDelay']\n",
    "month_del = delay_by_month['Month']\n",
    "\n",
    "xnew = np.linspace(arr_del.index.min(), arr_del.index.max(), 300)\n",
    "\n",
    "power_smooth = spline(arr_del.index,list(arr_del),xnew)\n",
    "\n",
    "plt.xticks(np.arange(12), month_map.values(), rotation=90)\n",
    "\n",
    "plt.plot(xnew,power_smooth)"
   ]
  },
  {
   "cell_type": "markdown",
   "metadata": {},
   "source": [
    "The graph above indicates that the Summer period, May, June, July and Winter period, December, January, February result in a spike of delays. <br>\n",
    "Autumn and Spring provide the least amount of delay on average with Spring being minutely ahead."
   ]
  },
  {
   "cell_type": "markdown",
   "metadata": {},
   "source": [
    "## Performance by Route"
   ]
  },
  {
   "cell_type": "markdown",
   "metadata": {},
   "source": [
    "uniqueRoutesCount = df['Route'].value_counts()\n",
    "sns.set(style=\"darkgrid\")\n",
    "sns.barplot(uniqueRoutesCount.index, uniqueRoutesCount.values)\n",
    "plt.title('Distribution')\n",
    "plt.ylabel('Occurences')\n",
    "plt.xlabel('UniqueCarrier')\n",
    "plt.show()"
   ]
  },
  {
   "cell_type": "markdown",
   "metadata": {},
   "source": [
    "The above bar plot is not overly useful except to show there is a large variance in the number of flights on each route.\n",
    "This can cause a data skew, see below:"
   ]
  },
  {
   "cell_type": "code",
   "execution_count": 22,
   "metadata": {},
   "outputs": [
    {
     "data": {
      "text/html": [
       "<div>\n",
       "<style scoped>\n",
       "    .dataframe tbody tr th:only-of-type {\n",
       "        vertical-align: middle;\n",
       "    }\n",
       "\n",
       "    .dataframe tbody tr th {\n",
       "        vertical-align: top;\n",
       "    }\n",
       "\n",
       "    .dataframe thead th {\n",
       "        text-align: right;\n",
       "    }\n",
       "</style>\n",
       "<table border=\"1\" class=\"dataframe\">\n",
       "  <thead>\n",
       "    <tr style=\"text-align: right;\">\n",
       "      <th></th>\n",
       "      <th>Route</th>\n",
       "      <th>CarrierDelay</th>\n",
       "      <th>WeatherDelay</th>\n",
       "      <th>NASDelay</th>\n",
       "      <th>SecurityDelay</th>\n",
       "      <th>LateAircraftDelay</th>\n",
       "      <th>TotalDelay</th>\n",
       "    </tr>\n",
       "  </thead>\n",
       "  <tbody>\n",
       "    <tr>\n",
       "      <th>979</th>\n",
       "      <td>CMI - SPI</td>\n",
       "      <td>545.0</td>\n",
       "      <td>0.0</td>\n",
       "      <td>0.0</td>\n",
       "      <td>0.0</td>\n",
       "      <td>30.0</td>\n",
       "      <td>575.0</td>\n",
       "    </tr>\n",
       "  </tbody>\n",
       "</table>\n",
       "</div>"
      ],
      "text/plain": [
       "         Route  CarrierDelay  WeatherDelay  NASDelay  SecurityDelay  \\\n",
       "979  CMI - SPI         545.0           0.0       0.0            0.0   \n",
       "\n",
       "     LateAircraftDelay  TotalDelay  \n",
       "979               30.0       575.0  "
      ]
     },
     "execution_count": 22,
     "metadata": {},
     "output_type": "execute_result"
    }
   ],
   "source": [
    "delay_by_route = (df.groupby('Route', as_index=False)\n",
    "       .agg({'CarrierDelay':'mean', 'WeatherDelay':'mean','NASDelay':'mean','SecurityDelay':'mean','LateAircraftDelay':'mean'}))\n",
    "\n",
    "delay_by_route['TotalDelay'] = delay_by_route['CarrierDelay'] + delay_by_route['WeatherDelay'] + delay_by_route['NASDelay'] + delay_by_route['SecurityDelay'] + delay_by_route['LateAircraftDelay']\n",
    "\n",
    "delay_by_route.sort_values(by='TotalDelay')\n",
    "\n",
    "route_979 = delay_by_route[delay_by_route['Route'] == 979]\n",
    "\n",
    "route_979['Route'] = route_979['Route'].map(uniqueRouteDict)\n",
    "\n",
    "route_979"
   ]
  },
  {
   "cell_type": "markdown",
   "metadata": {},
   "source": [
    "As can be seen above there is a total delay of 575 minutes, almost 10 hours! There is only one record for this route in the dataset. The flight from Champaign, Illinois (CMI) to Springfield, Illinois (SPI).\n",
    "\n",
    "I have made the decision to drop any route with less than fifty-two records, this is based on one flight per week to provide averages and estimates. \n",
    "\n",
    "Futher data collection could be gathered on the dropped routes but as this is a general look into airline delays and performance I have chosen not to."
   ]
  },
  {
   "cell_type": "code",
   "execution_count": 206,
   "metadata": {},
   "outputs": [],
   "source": [
    "route_count = df['Route'].value_counts()"
   ]
  },
  {
   "cell_type": "code",
   "execution_count": 207,
   "metadata": {},
   "outputs": [
    {
     "name": "stdout",
     "output_type": "stream",
     "text": [
      "Total unique routes: 5086\n",
      "Routes with more than 52 records: 3781\n"
     ]
    }
   ],
   "source": [
    "print(\"Total unique routes:\", route_count.shape[0])\n",
    "print(\"Routes with more than 52 records:\", route_count[route_count >= 52].shape[0])"
   ]
  },
  {
   "cell_type": "code",
   "execution_count": 208,
   "metadata": {},
   "outputs": [],
   "source": [
    "routes_to_drop = route_count[route_count < 52].index.tolist()"
   ]
  },
  {
   "cell_type": "code",
   "execution_count": 209,
   "metadata": {},
   "outputs": [],
   "source": [
    "for route in routes_to_drop:\n",
    "    df.loc[df['Route'] == route] = np.NaN"
   ]
  },
  {
   "cell_type": "code",
   "execution_count": 210,
   "metadata": {},
   "outputs": [
    {
     "data": {
      "text/plain": [
       "(3781,)"
      ]
     },
     "execution_count": 210,
     "metadata": {},
     "output_type": "execute_result"
    }
   ],
   "source": [
    "df = df.dropna()\n",
    "df['Route'].value_counts().shape"
   ]
  },
  {
   "cell_type": "code",
   "execution_count": 211,
   "metadata": {},
   "outputs": [],
   "source": [
    "df = df.reset_index()"
   ]
  },
  {
   "cell_type": "code",
   "execution_count": 212,
   "metadata": {},
   "outputs": [],
   "source": [
    "df = df.drop('index', axis=1)"
   ]
  },
  {
   "cell_type": "code",
   "execution_count": 213,
   "metadata": {},
   "outputs": [],
   "source": [
    "delay_by_route = (df.groupby('Route', as_index=False)\n",
    "       .agg({'CarrierDelay':'mean', 'WeatherDelay':'mean','NASDelay':'mean','SecurityDelay':'mean','LateAircraftDelay':'mean'}))\n",
    "\n",
    "delay_by_route['TotalDelay'] = delay_by_route['CarrierDelay'] + delay_by_route['WeatherDelay'] + delay_by_route['NASDelay'] + delay_by_route['SecurityDelay'] + delay_by_route['LateAircraftDelay']"
   ]
  },
  {
   "cell_type": "code",
   "execution_count": 214,
   "metadata": {},
   "outputs": [],
   "source": [
    "five_least_delayed = delay_by_route.sort_values(by='TotalDelay')[0:5]\n",
    "five_least_delayed['Route'] = five_least_delayed['Route'].map(uniqueRouteDict)"
   ]
  },
  {
   "cell_type": "code",
   "execution_count": 215,
   "metadata": {},
   "outputs": [
    {
     "data": {
      "text/html": [
       "<div>\n",
       "<style scoped>\n",
       "    .dataframe tbody tr th:only-of-type {\n",
       "        vertical-align: middle;\n",
       "    }\n",
       "\n",
       "    .dataframe tbody tr th {\n",
       "        vertical-align: top;\n",
       "    }\n",
       "\n",
       "    .dataframe thead th {\n",
       "        text-align: right;\n",
       "    }\n",
       "</style>\n",
       "<table border=\"1\" class=\"dataframe\">\n",
       "  <thead>\n",
       "    <tr style=\"text-align: right;\">\n",
       "      <th></th>\n",
       "      <th>Route</th>\n",
       "      <th>CarrierDelay</th>\n",
       "      <th>WeatherDelay</th>\n",
       "      <th>NASDelay</th>\n",
       "      <th>SecurityDelay</th>\n",
       "      <th>LateAircraftDelay</th>\n",
       "      <th>TotalDelay</th>\n",
       "    </tr>\n",
       "  </thead>\n",
       "  <tbody>\n",
       "    <tr>\n",
       "      <th>3742</th>\n",
       "      <td>TUS - SMF</td>\n",
       "      <td>10.905405</td>\n",
       "      <td>0.000000</td>\n",
       "      <td>4.837838</td>\n",
       "      <td>0.000000</td>\n",
       "      <td>13.824324</td>\n",
       "      <td>29.567568</td>\n",
       "    </tr>\n",
       "    <tr>\n",
       "      <th>3453</th>\n",
       "      <td>SJC - MDW</td>\n",
       "      <td>9.445783</td>\n",
       "      <td>1.228916</td>\n",
       "      <td>7.807229</td>\n",
       "      <td>0.000000</td>\n",
       "      <td>15.987952</td>\n",
       "      <td>34.469880</td>\n",
       "    </tr>\n",
       "    <tr>\n",
       "      <th>70</th>\n",
       "      <td>ANC - PDX</td>\n",
       "      <td>18.214286</td>\n",
       "      <td>0.000000</td>\n",
       "      <td>3.400000</td>\n",
       "      <td>0.328571</td>\n",
       "      <td>12.728571</td>\n",
       "      <td>34.671429</td>\n",
       "    </tr>\n",
       "    <tr>\n",
       "      <th>17</th>\n",
       "      <td>ABQ - LBB</td>\n",
       "      <td>11.966102</td>\n",
       "      <td>0.271186</td>\n",
       "      <td>1.593220</td>\n",
       "      <td>0.000000</td>\n",
       "      <td>21.711864</td>\n",
       "      <td>35.542373</td>\n",
       "    </tr>\n",
       "    <tr>\n",
       "      <th>2599</th>\n",
       "      <td>OAK - BNA</td>\n",
       "      <td>14.894737</td>\n",
       "      <td>0.000000</td>\n",
       "      <td>3.859649</td>\n",
       "      <td>0.000000</td>\n",
       "      <td>17.035088</td>\n",
       "      <td>35.789474</td>\n",
       "    </tr>\n",
       "  </tbody>\n",
       "</table>\n",
       "</div>"
      ],
      "text/plain": [
       "          Route  CarrierDelay  WeatherDelay  NASDelay  SecurityDelay  \\\n",
       "3742  TUS - SMF     10.905405      0.000000  4.837838       0.000000   \n",
       "3453  SJC - MDW      9.445783      1.228916  7.807229       0.000000   \n",
       "70    ANC - PDX     18.214286      0.000000  3.400000       0.328571   \n",
       "17    ABQ - LBB     11.966102      0.271186  1.593220       0.000000   \n",
       "2599  OAK - BNA     14.894737      0.000000  3.859649       0.000000   \n",
       "\n",
       "      LateAircraftDelay  TotalDelay  \n",
       "3742          13.824324   29.567568  \n",
       "3453          15.987952   34.469880  \n",
       "70            12.728571   34.671429  \n",
       "17            21.711864   35.542373  \n",
       "2599          17.035088   35.789474  "
      ]
     },
     "execution_count": 215,
     "metadata": {},
     "output_type": "execute_result"
    }
   ],
   "source": [
    "five_least_delayed"
   ]
  },
  {
   "cell_type": "code",
   "execution_count": 220,
   "metadata": {},
   "outputs": [
    {
     "data": {
      "text/plain": [
       "<matplotlib.axes._subplots.AxesSubplot at 0x7ff491a5acf8>"
      ]
     },
     "execution_count": 220,
     "metadata": {},
     "output_type": "execute_result"
    },
    {
     "data": {
      "image/png": "[encoded data removed]",
      "text/plain": [
       "<Figure size 432x288 with 2 Axes>"
      ]
     },
     "metadata": {},
     "output_type": "display_data"
    }
   ],
   "source": [
    "sns.heatmap(df.ix[list(five_least_delayed.index)].corr())"
   ]
  },
  {
   "cell_type": "markdown",
   "metadata": {},
   "source": [
    "Above are the five least delayed routes,"
   ]
  },
  {
   "cell_type": "code",
   "execution_count": 216,
   "metadata": {},
   "outputs": [],
   "source": [
    "five_most_delayed = delay_by_route.sort_values(by='TotalDelay')[delay_by_route.shape[0] - 5:delay_by_route.shape[0]]\n",
    "five_most_delayed['Route'] = five_most_delayed['Route'].map(uniqueRouteDict)"
   ]
  },
  {
   "cell_type": "code",
   "execution_count": 217,
   "metadata": {},
   "outputs": [
    {
     "data": {
      "text/html": [
       "<div>\n",
       "<style scoped>\n",
       "    .dataframe tbody tr th:only-of-type {\n",
       "        vertical-align: middle;\n",
       "    }\n",
       "\n",
       "    .dataframe tbody tr th {\n",
       "        vertical-align: top;\n",
       "    }\n",
       "\n",
       "    .dataframe thead th {\n",
       "        text-align: right;\n",
       "    }\n",
       "</style>\n",
       "<table border=\"1\" class=\"dataframe\">\n",
       "  <thead>\n",
       "    <tr style=\"text-align: right;\">\n",
       "      <th></th>\n",
       "      <th>Route</th>\n",
       "      <th>CarrierDelay</th>\n",
       "      <th>WeatherDelay</th>\n",
       "      <th>NASDelay</th>\n",
       "      <th>SecurityDelay</th>\n",
       "      <th>LateAircraftDelay</th>\n",
       "      <th>TotalDelay</th>\n",
       "    </tr>\n",
       "  </thead>\n",
       "  <tbody>\n",
       "    <tr>\n",
       "      <th>1492</th>\n",
       "      <td>HDN - ORD</td>\n",
       "      <td>39.363636</td>\n",
       "      <td>1.750000</td>\n",
       "      <td>46.193182</td>\n",
       "      <td>0.000000</td>\n",
       "      <td>34.465909</td>\n",
       "      <td>121.772727</td>\n",
       "    </tr>\n",
       "    <tr>\n",
       "      <th>1241</th>\n",
       "      <td>EGE - ORD</td>\n",
       "      <td>37.283333</td>\n",
       "      <td>4.233333</td>\n",
       "      <td>39.866667</td>\n",
       "      <td>0.000000</td>\n",
       "      <td>42.966667</td>\n",
       "      <td>124.350000</td>\n",
       "    </tr>\n",
       "    <tr>\n",
       "      <th>3763</th>\n",
       "      <td>VPS - MEM</td>\n",
       "      <td>89.763158</td>\n",
       "      <td>2.236842</td>\n",
       "      <td>11.236842</td>\n",
       "      <td>0.105263</td>\n",
       "      <td>28.842105</td>\n",
       "      <td>132.184211</td>\n",
       "    </tr>\n",
       "    <tr>\n",
       "      <th>3558</th>\n",
       "      <td>SMF - MSP</td>\n",
       "      <td>101.893939</td>\n",
       "      <td>4.848485</td>\n",
       "      <td>10.196970</td>\n",
       "      <td>0.000000</td>\n",
       "      <td>17.863636</td>\n",
       "      <td>134.803030</td>\n",
       "    </tr>\n",
       "    <tr>\n",
       "      <th>1239</th>\n",
       "      <td>EGE - DFW</td>\n",
       "      <td>40.836957</td>\n",
       "      <td>30.750000</td>\n",
       "      <td>14.543478</td>\n",
       "      <td>0.000000</td>\n",
       "      <td>49.826087</td>\n",
       "      <td>135.956522</td>\n",
       "    </tr>\n",
       "  </tbody>\n",
       "</table>\n",
       "</div>"
      ],
      "text/plain": [
       "          Route  CarrierDelay  WeatherDelay   NASDelay  SecurityDelay  \\\n",
       "1492  HDN - ORD     39.363636      1.750000  46.193182       0.000000   \n",
       "1241  EGE - ORD     37.283333      4.233333  39.866667       0.000000   \n",
       "3763  VPS - MEM     89.763158      2.236842  11.236842       0.105263   \n",
       "3558  SMF - MSP    101.893939      4.848485  10.196970       0.000000   \n",
       "1239  EGE - DFW     40.836957     30.750000  14.543478       0.000000   \n",
       "\n",
       "      LateAircraftDelay  TotalDelay  \n",
       "1492          34.465909  121.772727  \n",
       "1241          42.966667  124.350000  \n",
       "3763          28.842105  132.184211  \n",
       "3558          17.863636  134.803030  \n",
       "1239          49.826087  135.956522  "
      ]
     },
     "execution_count": 217,
     "metadata": {},
     "output_type": "execute_result"
    }
   ],
   "source": [
    "five_most_delayed"
   ]
  },
  {
   "cell_type": "code",
   "execution_count": 218,
   "metadata": {},
   "outputs": [
    {
     "data": {
      "text/plain": [
       "<matplotlib.axes._subplots.AxesSubplot at 0x7ff47b881be0>"
      ]
     },
     "execution_count": 218,
     "metadata": {},
     "output_type": "execute_result"
    },
    {
     "data": {
      "image/png": "[encoded data removed]",
      "text/plain": [
       "<Figure size 432x288 with 2 Axes>"
      ]
     },
     "metadata": {},
     "output_type": "display_data"
    }
   ],
   "source": [
    "sns.heatmap(df.ix[list(five_most_delayed.index)].corr())"
   ]
  },
  {
   "cell_type": "markdown",
   "metadata": {},
   "source": [
    "Above are the five most delayed routes,"
   ]
  },
  {
   "cell_type": "markdown",
   "metadata": {},
   "source": [
    "## Airline Performance"
   ]
  },
  {
   "cell_type": "code",
   "execution_count": 219,
   "metadata": {},
   "outputs": [
    {
     "data": {
      "text/html": [
       "<div>\n",
       "<style scoped>\n",
       "    .dataframe tbody tr th:only-of-type {\n",
       "        vertical-align: middle;\n",
       "    }\n",
       "\n",
       "    .dataframe tbody tr th {\n",
       "        vertical-align: top;\n",
       "    }\n",
       "\n",
       "    .dataframe thead th {\n",
       "        text-align: right;\n",
       "    }\n",
       "</style>\n",
       "<table border=\"1\" class=\"dataframe\">\n",
       "  <thead>\n",
       "    <tr style=\"text-align: right;\">\n",
       "      <th></th>\n",
       "      <th>UniqueCarrier</th>\n",
       "    </tr>\n",
       "  </thead>\n",
       "  <tbody>\n",
       "    <tr>\n",
       "      <th>17.0</th>\n",
       "      <td>201793</td>\n",
       "    </tr>\n",
       "    <tr>\n",
       "      <th>1.0</th>\n",
       "      <td>131224</td>\n",
       "    </tr>\n",
       "    <tr>\n",
       "      <th>11.0</th>\n",
       "      <td>96180</td>\n",
       "    </tr>\n",
       "    <tr>\n",
       "      <th>15.0</th>\n",
       "      <td>94801</td>\n",
       "    </tr>\n",
       "    <tr>\n",
       "      <th>14.0</th>\n",
       "      <td>85642</td>\n",
       "    </tr>\n",
       "    <tr>\n",
       "      <th>6.0</th>\n",
       "      <td>70775</td>\n",
       "    </tr>\n",
       "    <tr>\n",
       "      <th>18.0</th>\n",
       "      <td>68170</td>\n",
       "    </tr>\n",
       "    <tr>\n",
       "      <th>16.0</th>\n",
       "      <td>58090</td>\n",
       "    </tr>\n",
       "    <tr>\n",
       "      <th>5.0</th>\n",
       "      <td>58018</td>\n",
       "    </tr>\n",
       "    <tr>\n",
       "      <th>7.0</th>\n",
       "      <td>55832</td>\n",
       "    </tr>\n",
       "    <tr>\n",
       "      <th>12.0</th>\n",
       "      <td>53432</td>\n",
       "    </tr>\n",
       "    <tr>\n",
       "      <th>19.0</th>\n",
       "      <td>49601</td>\n",
       "    </tr>\n",
       "    <tr>\n",
       "      <th>9.0</th>\n",
       "      <td>45255</td>\n",
       "    </tr>\n",
       "    <tr>\n",
       "      <th>4.0</th>\n",
       "      <td>37590</td>\n",
       "    </tr>\n",
       "    <tr>\n",
       "      <th>13.0</th>\n",
       "      <td>37462</td>\n",
       "    </tr>\n",
       "    <tr>\n",
       "      <th>0.0</th>\n",
       "      <td>32817</td>\n",
       "    </tr>\n",
       "    <tr>\n",
       "      <th>3.0</th>\n",
       "      <td>23142</td>\n",
       "    </tr>\n",
       "    <tr>\n",
       "      <th>8.0</th>\n",
       "      <td>15760</td>\n",
       "    </tr>\n",
       "    <tr>\n",
       "      <th>10.0</th>\n",
       "      <td>3961</td>\n",
       "    </tr>\n",
       "    <tr>\n",
       "      <th>2.0</th>\n",
       "      <td>222</td>\n",
       "    </tr>\n",
       "  </tbody>\n",
       "</table>\n",
       "</div>"
      ],
      "text/plain": [
       "      UniqueCarrier\n",
       "17.0         201793\n",
       "1.0          131224\n",
       "11.0          96180\n",
       "15.0          94801\n",
       "14.0          85642\n",
       "6.0           70775\n",
       "18.0          68170\n",
       "16.0          58090\n",
       "5.0           58018\n",
       "7.0           55832\n",
       "12.0          53432\n",
       "19.0          49601\n",
       "9.0           45255\n",
       "4.0           37590\n",
       "13.0          37462\n",
       "0.0           32817\n",
       "3.0           23142\n",
       "8.0           15760\n",
       "10.0           3961\n",
       "2.0             222"
      ]
     },
     "execution_count": 219,
     "metadata": {},
     "output_type": "execute_result"
    }
   ],
   "source": [
    "delay_mean = (df.groupby('UniqueCarrier', as_index=False)\n",
    "       .agg({'CarrierDelay':'mean', 'WeatherDelay':'mean','NASDelay':'mean','SecurityDelay':'mean','LateAircraftDelay':'mean'}))\n",
    "delay_mean\n",
    "\n",
    "delay_mean['TotalDelay'] = delay_mean['CarrierDelay'] + delay_mean['WeatherDelay'] + delay_mean['NASDelay'] + delay_mean['SecurityDelay'] + delay_mean['LateAircraftDelay']\n",
    "delay_mean.sort_values(by='TotalDelay')\n",
    "\n",
    "pd.DataFrame(df['UniqueCarrier'].value_counts())\n"
   ]
  },
  {
   "cell_type": "code",
   "execution_count": null,
   "metadata": {},
   "outputs": [],
   "source": []
  },
  {
   "cell_type": "code",
   "execution_count": null,
   "metadata": {},
   "outputs": [],
   "source": []
  },
  {
   "cell_type": "code",
   "execution_count": null,
   "metadata": {},
   "outputs": [],
   "source": []
  },
  {
   "cell_type": "code",
   "execution_count": null,
   "metadata": {},
   "outputs": [],
   "source": []
  },
  {
   "cell_type": "code",
   "execution_count": null,
   "metadata": {},
   "outputs": [],
   "source": []
  },
  {
   "cell_type": "code",
   "execution_count": null,
   "metadata": {},
   "outputs": [],
   "source": []
  },
  {
   "cell_type": "code",
   "execution_count": null,
   "metadata": {},
   "outputs": [],
   "source": []
  },
  {
   "cell_type": "code",
   "execution_count": null,
   "metadata": {},
   "outputs": [],
   "source": []
  },
  {
   "cell_type": "code",
   "execution_count": null,
   "metadata": {},
   "outputs": [],
   "source": []
  },
  {
   "cell_type": "code",
   "execution_count": null,
   "metadata": {},
   "outputs": [],
   "source": []
  },
  {
   "cell_type": "code",
   "execution_count": null,
   "metadata": {},
   "outputs": [],
   "source": []
  },
  {
   "cell_type": "code",
   "execution_count": null,
   "metadata": {},
   "outputs": [],
   "source": []
  },
  {
   "cell_type": "code",
   "execution_count": null,
   "metadata": {},
   "outputs": [],
   "source": []
  },
  {
   "cell_type": "code",
   "execution_count": null,
   "metadata": {},
   "outputs": [],
   "source": []
  },
  {
   "cell_type": "code",
   "execution_count": null,
   "metadata": {},
   "outputs": [],
   "source": []
  }
 ],
 "metadata": {
  "kernelspec": {
   "display_name": "Python 3",
   "language": "python",
   "name": "python3"
  },
  "language_info": {
   "codemirror_mode": {
    "name": "ipython",
    "version": 3
   },
   "file_extension": ".py",
   "mimetype": "text/x-python",
   "name": "python",
   "nbconvert_exporter": "python",
   "pygments_lexer": "ipython3",
   "version": "3.7.0"
  }
 },
 "nbformat": 4,
 "nbformat_minor": 2
}
