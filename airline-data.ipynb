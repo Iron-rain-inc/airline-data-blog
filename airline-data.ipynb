{
 "cells": [
  {
   "cell_type": "markdown",
   "metadata": {},
   "source": [
    "# Airline Reliability\n",
    "This notebook is using the airline delay causes dataset from Kaggle, https://www.kaggle.com/giovamata/airlinedelaycauses\n",
    "\n",
    "### Business Understanding \n",
    "\n",
    "A US domestic airline booking agency has requested information on the reliability of airlines to enhance their booking process. \n",
    "\n",
    "As a booking agency they are interested in; the best day for flying, the periods of the year they can reccomend for travelling, routes to avoid, reliable airlines and leading causes of delay.\n",
    "\n",
    "This is broken down into the following questions to be answered: \n",
    "\n",
    "1. Which day of the week is the worst day for flight arrival delays?\n",
    "\n",
    "2. Is there a period throughout the year where arrival delays are higher than average?\n",
    "\n",
    "3. Which flight routes have the most arrival delay?\n",
    "\n",
    "4. Which airline is the most reliable?\n",
    "\n",
    "5. What is the leading cause for arrival delay in airlines?"
   ]
  },
  {
   "cell_type": "markdown",
   "metadata": {},
   "source": [
    "### Data Understanding\n",
    "\n",
    "The data provided is the US domestic airline records from 2008. This provides 1,936,758 rows of initial data. \n",
    "\n",
    "The data provided within the dataset includes; Year, Month, DayofMonth, DayOfWeek, DepTime, CRSDepTime, ArrTime, CRSArrTime, UniqueCarrier, FlightNum, TailNum, ActualElapsedTime, CRSElapsedTime, AirTime, ArrDelay, DepDelay, Origin, Dest, Distance, TaxiIn, TaxiOut, Cancelled, CancellationCode, Diverted, CarrierDelay, WeatherDelay, NASDelay, SecurityDelay, LateAircraftDelay.\n",
    "\n",
    "Of the five questions posed, the data set only answered four completely. To answer the third question completely it would be useful to provide geographic references for the route.\n",
    "\n",
    "To complete this the IATA codes used for the Origin and Dest field could be cross referenced with a data set providing the coordinates of each airport. As such an additional data set has been acquired and is used to plot the Origin and Dest of the required flight records. "
   ]
  },
  {
   "cell_type": "code",
   "execution_count": 3,
   "metadata": {},
   "outputs": [],
   "source": [
    "import numpy as np\n",
    "import pandas as pd\n",
    "import matplotlib.pyplot as plt\n",
    "from sklearn.linear_model import LinearRegression\n",
    "from sklearn.model_selection import train_test_split\n",
    "from sklearn.metrics import r2_score, mean_squared_error\n",
    "import seaborn as sns\n",
    "\n",
    "try:\n",
    "    import geopandas\n",
    "    from shapely.geometry import Point, LineString\n",
    "except:\n",
    "    print(\"No geopandas detected, run `conda install -c conda-forge geopandas` if mapping functionality required.\")\n",
    "\n",
    "from scipy.interpolate import spline\n",
    "\n",
    "import warnings; warnings.simplefilter('ignore')\n",
    "\n",
    "%matplotlib inline\n",
    "\n",
    "df = pd.read_csv('./source/DelayedFlights.csv', index_col=0)                \n",
    "df.head()\n",
    "# https://raw.githubusercontent.com/jpatokal/openflights/master/data/airports.dat\n",
    "airports = pd.read_csv('./source/airports.dat', index_col=0)"
   ]
  },
  {
   "cell_type": "markdown",
   "metadata": {},
   "source": [
    "### Data Preparation\n",
    "\n",
    "The provided data has a number of issues that require remediation prior to use. \n",
    "There are a number of columns that are irrelavent to the questions posed and will be dropped. \n",
    "There are NaN values to be remediated and categorical variables that will need mapping. \n",
    "\n",
    "The steps below cover the preparation of the data."
   ]
  },
  {
   "cell_type": "code",
   "execution_count": 4,
   "metadata": {},
   "outputs": [
    {
     "data": {
      "text/plain": [
       "Index(['Year', 'Month', 'DayofMonth', 'DayOfWeek', 'DepTime', 'CRSDepTime',\n",
       "       'ArrTime', 'CRSArrTime', 'UniqueCarrier', 'FlightNum', 'TailNum',\n",
       "       'ActualElapsedTime', 'CRSElapsedTime', 'AirTime', 'ArrDelay',\n",
       "       'DepDelay', 'Origin', 'Dest', 'Distance', 'TaxiIn', 'TaxiOut',\n",
       "       'Cancelled', 'CancellationCode', 'Diverted', 'CarrierDelay',\n",
       "       'WeatherDelay', 'NASDelay', 'SecurityDelay', 'LateAircraftDelay'],\n",
       "      dtype='object')"
      ]
     },
     "execution_count": 4,
     "metadata": {},
     "output_type": "execute_result"
    }
   ],
   "source": [
    "df.columns"
   ]
  },
  {
   "cell_type": "markdown",
   "metadata": {},
   "source": [
    "Now that the data is imported the value add of each column needs to be determined.\n",
    "\n",
    "Columns may need dropping or transforming depending on content.\n",
    "\n",
    "The value of some columns can be determined by their description; Month, DayofMonth, DayofWeek, CRSDepTime, CRSArrTime, UniqueCarrier, CSRElapsedTime, ArrDelay, DepDelay, Origin, Dest, Distance are all of use in the prediction of delayed flights.\n",
    "\n",
    "Columns with reported statistics, as opposed to plan are; Month, DayofMonth, DayOfWeek, DepTime, ArrTime, UniqueCarrier, ActualElapsedTime, AirTime, ArrDelay, DepDelay, Origin, Dest, Distance, and the various Delay fields. \n",
    "\n",
    "Fields that do not inititally appear of value are; Year, FlightNum, TailNum, TaxiIn, TaxiOut, Cancelled, CancellationCode & Diverted."
   ]
  },
  {
   "cell_type": "code",
   "execution_count": 3,
   "metadata": {},
   "outputs": [
    {
     "name": "stdout",
     "output_type": "stream",
     "text": [
      "2008    1936758\n",
      "Name: Year, dtype: int64\n",
      "\n",
      "\n",
      "16    1586\n",
      "50    1550\n",
      "40    1507\n",
      "15    1471\n",
      "44    1447\n",
      "Name: FlightNum, dtype: int64\n",
      "\n",
      "\n",
      "N325SW    965\n",
      "N676SW    951\n",
      "N658SW    945\n",
      "N313SW    937\n",
      "N308SA    936\n",
      "Name: TailNum, dtype: int64\n",
      "\n",
      "\n",
      "4.0    323427\n",
      "5.0    314063\n",
      "6.0    239676\n",
      "3.0    234686\n",
      "7.0    177889\n",
      "Name: TaxiIn, dtype: int64\n",
      "\n",
      "\n",
      "11.0    129633\n",
      "10.0    129556\n",
      "12.0    126355\n",
      "13.0    119526\n",
      "9.0     118894\n",
      "Name: TaxiOut, dtype: int64\n",
      "\n",
      "\n",
      "0    1936125\n",
      "1        633\n",
      "Name: Cancelled, dtype: int64\n",
      "\n",
      "\n",
      "N    1936125\n",
      "B        307\n",
      "A        246\n",
      "C         80\n",
      "Name: CancellationCode, dtype: int64\n",
      "\n",
      "\n",
      "0    1929004\n",
      "1       7754\n",
      "Name: Diverted, dtype: int64\n",
      "\n",
      "\n"
     ]
    }
   ],
   "source": [
    "cols_to_check = ['Year', 'FlightNum', 'TailNum', 'TaxiIn', 'TaxiOut', 'Cancelled', 'CancellationCode', 'Diverted']\n",
    "\n",
    "for col in cols_to_check:\n",
    "    print(df[col].value_counts().head())\n",
    "    print('\\n')"
   ]
  },
  {
   "cell_type": "markdown",
   "metadata": {},
   "source": [
    "<b>Year:</b> All fields are from 2008, this column will be dropped. <br>\n",
    "<b>FlightNum:</b> The flight number is not relevant at this level of analysis, this column will be dropped. <br>\n",
    "<b>TailNum:</b> The tail number is not relevant at this level of analysis, this column will be dropped. <br>\n",
    "<b>TaxiIn/TaxiOut:</b> The taxi times are not relavent as delay times are recorded separately, these columns will be dropped.  <br>\n",
    "<b>Cancelled:</b> Cancelled flights will not have a dealy time, this column will be dropped. <br>\n",
    "<b>CancellationCode:</b> Cancelled flights are dropped so this column holds no value, this column will be dropped. <br>\n",
    "<b>Diverted:</b> Diverted flights may contribute to delays, this column will be re-analyzed once data is cleaned.  "
   ]
  },
  {
   "cell_type": "code",
   "execution_count": 4,
   "metadata": {},
   "outputs": [],
   "source": [
    "df = df.drop(['Year','FlightNum','TailNum','TaxiIn','TaxiOut','Cancelled','CancellationCode'], axis=1)"
   ]
  },
  {
   "cell_type": "markdown",
   "metadata": {},
   "source": [
    "Inital columns have been dropped, now the data needs to be checkhed for validity and consistency."
   ]
  },
  {
   "cell_type": "code",
   "execution_count": 5,
   "metadata": {},
   "outputs": [
    {
     "data": {
      "image/png": "[encoded data removed]",
      "text/plain": [
       "<Figure size 432x288 with 1 Axes>"
      ]
     },
     "metadata": {
      "needs_background": "light"
     },
     "output_type": "display_data"
    }
   ],
   "source": [
    "(df.count() / df.shape[0]).plot(kind=\"bar\");"
   ]
  },
  {
   "cell_type": "markdown",
   "metadata": {},
   "source": [
    "As seen above the various delay cause fields are missing approximately 35% of their data. <br>\n",
    "One of the questions in the anlaysis of this data is to identify the leading cause of delays, to accomodate this any row containing no data in the delay cuase fields will be dropped."
   ]
  },
  {
   "cell_type": "code",
   "execution_count": 6,
   "metadata": {},
   "outputs": [],
   "source": [
    "pre_na_drop = df.shape[0]"
   ]
  },
  {
   "cell_type": "code",
   "execution_count": 7,
   "metadata": {},
   "outputs": [],
   "source": [
    "df = df.dropna(subset=['CarrierDelay','WeatherDelay','NASDelay','SecurityDelay','LateAircraftDelay'])\n",
    "df = df.reset_index()"
   ]
  },
  {
   "cell_type": "code",
   "execution_count": 8,
   "metadata": {},
   "outputs": [],
   "source": [
    "df = df.drop('index', axis=1)"
   ]
  },
  {
   "cell_type": "code",
   "execution_count": 9,
   "metadata": {},
   "outputs": [
    {
     "name": "stdout",
     "output_type": "stream",
     "text": [
      "Remaining rows from original dataset: 64.41\n"
     ]
    }
   ],
   "source": [
    "print('Remaining rows from original dataset:',round((df.shape[0] / pre_na_drop) * 100, 2))"
   ]
  },
  {
   "cell_type": "markdown",
   "metadata": {},
   "source": [
    "The missing data has now been removed, next is to map any categorical or object data that is not in an appropriate format. <br>\n",
    "\n",
    "The three fields identified below, Dest, Origin & Unique Carrier will be transformed.\n",
    "\n",
    "<b>UniqueCarrier:</b> This field will be mapped to a numerical value and a dictionary maintained for reverse transforms. </br>\n",
    "<b>Origin/Dest:</b> These fields will be concatenated into the format `Origin - Dest` and then go through the mapping process as above. </br>"
   ]
  },
  {
   "cell_type": "code",
   "execution_count": 10,
   "metadata": {},
   "outputs": [
    {
     "data": {
      "text/plain": [
       "{'Dest', 'Origin', 'UniqueCarrier'}"
      ]
     },
     "execution_count": 10,
     "metadata": {},
     "output_type": "execute_result"
    }
   ],
   "source": [
    "object_data = set(df.select_dtypes(include=['object']).columns)\n",
    "\n",
    "object_data"
   ]
  },
  {
   "cell_type": "code",
   "execution_count": 11,
   "metadata": {},
   "outputs": [],
   "source": [
    "df['Route'] = df['Origin'] + \" - \" + df['Dest']\n",
    "df = df.drop(['Dest','Origin'], axis=1)"
   ]
  },
  {
   "cell_type": "code",
   "execution_count": 12,
   "metadata": {},
   "outputs": [],
   "source": [
    "unique_route_dict = dict(enumerate(df['Route'].astype('category').cat.categories))\n",
    "df['Route'] = df['Route'].astype('category').cat.codes"
   ]
  },
  {
   "cell_type": "code",
   "execution_count": 13,
   "metadata": {},
   "outputs": [],
   "source": [
    "unique_carrier_dict = dict(enumerate(df['UniqueCarrier'].astype('category').cat.categories))\n",
    "df['UniqueCarrier'] = df['UniqueCarrier'].astype('category').cat.codes"
   ]
  },
  {
   "cell_type": "code",
   "execution_count": 14,
   "metadata": {},
   "outputs": [],
   "source": [
    "float_data = set(df.select_dtypes(include=['float64']).columns)\n",
    "\n",
    "for col in float_data:\n",
    "    df[col] = df[col].astype('int16')"
   ]
  },
  {
   "cell_type": "markdown",
   "metadata": {},
   "source": [
    "The dataframe is reporting a mix of float and int data type, within this data there is no need for the float data type so it has been converted to int.\n",
    "\n",
    "At this point all categorical data has been transformed appropriately."
   ]
  },
  {
   "cell_type": "markdown",
   "metadata": {},
   "source": [
    "### Data Modeling and Evaluation\n",
    "Modeling and evaluation are completed in a single step as data is analyzed and questions are evaluated without the use of a model.\n",
    "\n",
    "The evaluation of each step is contained under the sub-headings. "
   ]
  },
  {
   "cell_type": "markdown",
   "metadata": {},
   "source": [
    "#### Which day of the week is the worst day for flight arrival delays?"
   ]
  },
  {
   "cell_type": "code",
   "execution_count": 15,
   "metadata": {},
   "outputs": [
    {
     "data": {
      "image/png": "[encoded data removed]",
      "text/plain": [
       "<Figure size 432x288 with 1 Axes>"
      ]
     },
     "metadata": {
      "needs_background": "light"
     },
     "output_type": "display_data"
    }
   ],
   "source": [
    "df['DayOfWeek'].value_counts()\n",
    "(df['DayOfWeek'].value_counts()).plot(kind=\"bar\");"
   ]
  },
  {
   "cell_type": "markdown",
   "metadata": {},
   "source": [
    "The above chart shows the day of the week for flights, 1 = Monday, 7 = Sunday.\n",
    "The most popular day of the week to travel on is Friday and Saturday being the least popular.\n",
    "Every other day is in a median range."
   ]
  },
  {
   "cell_type": "code",
   "execution_count": 16,
   "metadata": {},
   "outputs": [],
   "source": [
    "delay_by_day = (df.groupby('DayOfWeek', as_index=False)\n",
    "       .agg({'ArrDelay':'mean','CarrierDelay':'mean', 'WeatherDelay':'mean','NASDelay':'mean','SecurityDelay':'mean','LateAircraftDelay':'mean'}))"
   ]
  },
  {
   "cell_type": "code",
   "execution_count": 17,
   "metadata": {},
   "outputs": [
    {
     "data": {
      "text/html": [
       "<div>\n",
       "<style scoped>\n",
       "    .dataframe tbody tr th:only-of-type {\n",
       "        vertical-align: middle;\n",
       "    }\n",
       "\n",
       "    .dataframe tbody tr th {\n",
       "        vertical-align: top;\n",
       "    }\n",
       "\n",
       "    .dataframe thead th {\n",
       "        text-align: right;\n",
       "    }\n",
       "</style>\n",
       "<table border=\"1\" class=\"dataframe\">\n",
       "  <thead>\n",
       "    <tr style=\"text-align: right;\">\n",
       "      <th></th>\n",
       "      <th>DayOfWeek</th>\n",
       "      <th>ArrDelay</th>\n",
       "      <th>CarrierDelay</th>\n",
       "      <th>WeatherDelay</th>\n",
       "      <th>NASDelay</th>\n",
       "      <th>SecurityDelay</th>\n",
       "      <th>LateAircraftDelay</th>\n",
       "    </tr>\n",
       "  </thead>\n",
       "  <tbody>\n",
       "    <tr>\n",
       "      <th>2</th>\n",
       "      <td>3</td>\n",
       "      <td>61.041335</td>\n",
       "      <td>19.213996</td>\n",
       "      <td>3.387808</td>\n",
       "      <td>14.709697</td>\n",
       "      <td>0.087040</td>\n",
       "      <td>23.642793</td>\n",
       "    </tr>\n",
       "    <tr>\n",
       "      <th>3</th>\n",
       "      <td>4</td>\n",
       "      <td>61.348052</td>\n",
       "      <td>18.360238</td>\n",
       "      <td>3.647854</td>\n",
       "      <td>14.624468</td>\n",
       "      <td>0.083608</td>\n",
       "      <td>24.631885</td>\n",
       "    </tr>\n",
       "    <tr>\n",
       "      <th>5</th>\n",
       "      <td>6</td>\n",
       "      <td>62.151388</td>\n",
       "      <td>22.038966</td>\n",
       "      <td>3.990661</td>\n",
       "      <td>12.518273</td>\n",
       "      <td>0.146978</td>\n",
       "      <td>23.456511</td>\n",
       "    </tr>\n",
       "    <tr>\n",
       "      <th>0</th>\n",
       "      <td>1</td>\n",
       "      <td>62.752050</td>\n",
       "      <td>19.376672</td>\n",
       "      <td>3.346693</td>\n",
       "      <td>14.476062</td>\n",
       "      <td>0.079685</td>\n",
       "      <td>25.472937</td>\n",
       "    </tr>\n",
       "    <tr>\n",
       "      <th>4</th>\n",
       "      <td>5</td>\n",
       "      <td>63.433851</td>\n",
       "      <td>17.795664</td>\n",
       "      <td>3.580344</td>\n",
       "      <td>15.478843</td>\n",
       "      <td>0.085355</td>\n",
       "      <td>26.493645</td>\n",
       "    </tr>\n",
       "    <tr>\n",
       "      <th>1</th>\n",
       "      <td>2</td>\n",
       "      <td>65.056200</td>\n",
       "      <td>18.367989</td>\n",
       "      <td>4.120911</td>\n",
       "      <td>17.078724</td>\n",
       "      <td>0.076329</td>\n",
       "      <td>25.412248</td>\n",
       "    </tr>\n",
       "    <tr>\n",
       "      <th>6</th>\n",
       "      <td>7</td>\n",
       "      <td>66.890671</td>\n",
       "      <td>20.009450</td>\n",
       "      <td>3.953517</td>\n",
       "      <td>15.687468</td>\n",
       "      <td>0.086309</td>\n",
       "      <td>27.153928</td>\n",
       "    </tr>\n",
       "  </tbody>\n",
       "</table>\n",
       "</div>"
      ],
      "text/plain": [
       "   DayOfWeek   ArrDelay  CarrierDelay  WeatherDelay   NASDelay  SecurityDelay  \\\n",
       "2          3  61.041335     19.213996      3.387808  14.709697       0.087040   \n",
       "3          4  61.348052     18.360238      3.647854  14.624468       0.083608   \n",
       "5          6  62.151388     22.038966      3.990661  12.518273       0.146978   \n",
       "0          1  62.752050     19.376672      3.346693  14.476062       0.079685   \n",
       "4          5  63.433851     17.795664      3.580344  15.478843       0.085355   \n",
       "1          2  65.056200     18.367989      4.120911  17.078724       0.076329   \n",
       "6          7  66.890671     20.009450      3.953517  15.687468       0.086309   \n",
       "\n",
       "   LateAircraftDelay  \n",
       "2          23.642793  \n",
       "3          24.631885  \n",
       "5          23.456511  \n",
       "0          25.472937  \n",
       "4          26.493645  \n",
       "1          25.412248  \n",
       "6          27.153928  "
      ]
     },
     "execution_count": 17,
     "metadata": {},
     "output_type": "execute_result"
    }
   ],
   "source": [
    "delay_by_day.sort_values(by='ArrDelay')"
   ]
  },
  {
   "cell_type": "markdown",
   "metadata": {},
   "source": [
    "The data above shows that flying on a Sunday is likely to result in the most delays. A Wedneday is the least likely to result in delays. \n",
    "\n",
    "The variance for overall delay could be considered low, there is an approximately five minute difference between Sunday and Wednesday. "
   ]
  },
  {
   "cell_type": "code",
   "execution_count": 18,
   "metadata": {},
   "outputs": [],
   "source": [
    "#Used to generate blog imagery\n",
    "\n",
    "day_map = {1: 'Monday', 2: 'Tuesday', 3: 'Wednesday', 4: 'Thursday', 5: 'Friday', 6: 'Saturday', 7: 'Sunday'}\n",
    "\n",
    "delay_by_day = delay_by_day.replace({'DayOfWeek': day_map})"
   ]
  },
  {
   "cell_type": "code",
   "execution_count": 19,
   "metadata": {},
   "outputs": [
    {
     "data": {
      "text/plain": [
       "([0, 1, 2, 3, 4, 5, 6], <a list of 7 Text xticklabel objects>)"
      ]
     },
     "execution_count": 19,
     "metadata": {},
     "output_type": "execute_result"
    },
    {
     "data": {
      "image/png": "[encoded data removed]",
      "text/plain": [
       "<Figure size 432x288 with 1 Axes>"
      ]
     },
     "metadata": {
      "needs_background": "light"
     },
     "output_type": "display_data"
    }
   ],
   "source": [
    "y = list(delay_by_day.sort_values(by='ArrDelay')['ArrDelay'])\n",
    "x = list(delay_by_day.sort_values(by='ArrDelay')['DayOfWeek'])\n",
    "\n",
    "plt.bar(x,y)\n",
    "plt.xticks(rotation='vertical')"
   ]
  },
  {
   "cell_type": "markdown",
   "metadata": {},
   "source": [
    "#### Is there a period throughout the year where arrival delays are higher than average?"
   ]
  },
  {
   "cell_type": "code",
   "execution_count": 20,
   "metadata": {},
   "outputs": [],
   "source": [
    "delay_by_month = (df.groupby('Month', as_index=False)\n",
    "       .agg({'ArrDelay':'mean','CarrierDelay':'mean', 'WeatherDelay':'mean','NASDelay':'mean','SecurityDelay':'mean','LateAircraftDelay':'mean'}))"
   ]
  },
  {
   "cell_type": "code",
   "execution_count": 21,
   "metadata": {},
   "outputs": [
    {
     "data": {
      "text/html": [
       "<div>\n",
       "<style scoped>\n",
       "    .dataframe tbody tr th:only-of-type {\n",
       "        vertical-align: middle;\n",
       "    }\n",
       "\n",
       "    .dataframe tbody tr th {\n",
       "        vertical-align: top;\n",
       "    }\n",
       "\n",
       "    .dataframe thead th {\n",
       "        text-align: right;\n",
       "    }\n",
       "</style>\n",
       "<table border=\"1\" class=\"dataframe\">\n",
       "  <thead>\n",
       "    <tr style=\"text-align: right;\">\n",
       "      <th></th>\n",
       "      <th>Month</th>\n",
       "      <th>ArrDelay</th>\n",
       "      <th>CarrierDelay</th>\n",
       "      <th>WeatherDelay</th>\n",
       "      <th>NASDelay</th>\n",
       "      <th>SecurityDelay</th>\n",
       "      <th>LateAircraftDelay</th>\n",
       "    </tr>\n",
       "  </thead>\n",
       "  <tbody>\n",
       "    <tr>\n",
       "      <th>0</th>\n",
       "      <td>1</td>\n",
       "      <td>63.047133</td>\n",
       "      <td>19.354470</td>\n",
       "      <td>3.530053</td>\n",
       "      <td>14.407299</td>\n",
       "      <td>0.102711</td>\n",
       "      <td>25.652600</td>\n",
       "    </tr>\n",
       "    <tr>\n",
       "      <th>1</th>\n",
       "      <td>2</td>\n",
       "      <td>64.170790</td>\n",
       "      <td>18.507422</td>\n",
       "      <td>4.207895</td>\n",
       "      <td>14.532052</td>\n",
       "      <td>0.086024</td>\n",
       "      <td>26.837397</td>\n",
       "    </tr>\n",
       "    <tr>\n",
       "      <th>2</th>\n",
       "      <td>3</td>\n",
       "      <td>62.081595</td>\n",
       "      <td>19.188412</td>\n",
       "      <td>3.610672</td>\n",
       "      <td>13.664191</td>\n",
       "      <td>0.111840</td>\n",
       "      <td>25.506481</td>\n",
       "    </tr>\n",
       "    <tr>\n",
       "      <th>3</th>\n",
       "      <td>4</td>\n",
       "      <td>59.414580</td>\n",
       "      <td>19.657297</td>\n",
       "      <td>2.748136</td>\n",
       "      <td>13.616508</td>\n",
       "      <td>0.077583</td>\n",
       "      <td>23.315056</td>\n",
       "    </tr>\n",
       "    <tr>\n",
       "      <th>4</th>\n",
       "      <td>5</td>\n",
       "      <td>58.371703</td>\n",
       "      <td>18.068723</td>\n",
       "      <td>2.523910</td>\n",
       "      <td>14.009781</td>\n",
       "      <td>0.102340</td>\n",
       "      <td>23.666948</td>\n",
       "    </tr>\n",
       "    <tr>\n",
       "      <th>5</th>\n",
       "      <td>6</td>\n",
       "      <td>66.167549</td>\n",
       "      <td>18.124587</td>\n",
       "      <td>4.179695</td>\n",
       "      <td>17.568216</td>\n",
       "      <td>0.077266</td>\n",
       "      <td>26.217786</td>\n",
       "    </tr>\n",
       "    <tr>\n",
       "      <th>6</th>\n",
       "      <td>7</td>\n",
       "      <td>68.081228</td>\n",
       "      <td>20.168679</td>\n",
       "      <td>4.648513</td>\n",
       "      <td>17.511306</td>\n",
       "      <td>0.109670</td>\n",
       "      <td>25.643061</td>\n",
       "    </tr>\n",
       "    <tr>\n",
       "      <th>7</th>\n",
       "      <td>8</td>\n",
       "      <td>64.612224</td>\n",
       "      <td>21.107413</td>\n",
       "      <td>3.961263</td>\n",
       "      <td>14.723465</td>\n",
       "      <td>0.073378</td>\n",
       "      <td>24.746705</td>\n",
       "    </tr>\n",
       "    <tr>\n",
       "      <th>8</th>\n",
       "      <td>9</td>\n",
       "      <td>57.814318</td>\n",
       "      <td>21.715276</td>\n",
       "      <td>2.807024</td>\n",
       "      <td>14.169841</td>\n",
       "      <td>0.085064</td>\n",
       "      <td>19.037111</td>\n",
       "    </tr>\n",
       "    <tr>\n",
       "      <th>9</th>\n",
       "      <td>10</td>\n",
       "      <td>54.341281</td>\n",
       "      <td>19.950980</td>\n",
       "      <td>1.836139</td>\n",
       "      <td>12.343436</td>\n",
       "      <td>0.090892</td>\n",
       "      <td>20.119834</td>\n",
       "    </tr>\n",
       "    <tr>\n",
       "      <th>10</th>\n",
       "      <td>11</td>\n",
       "      <td>60.461676</td>\n",
       "      <td>17.460876</td>\n",
       "      <td>2.183476</td>\n",
       "      <td>16.861017</td>\n",
       "      <td>0.062648</td>\n",
       "      <td>23.893658</td>\n",
       "    </tr>\n",
       "    <tr>\n",
       "      <th>11</th>\n",
       "      <td>12</td>\n",
       "      <td>69.083319</td>\n",
       "      <td>18.321837</td>\n",
       "      <td>5.281680</td>\n",
       "      <td>15.136794</td>\n",
       "      <td>0.085476</td>\n",
       "      <td>30.257531</td>\n",
       "    </tr>\n",
       "  </tbody>\n",
       "</table>\n",
       "</div>"
      ],
      "text/plain": [
       "    Month   ArrDelay  CarrierDelay  WeatherDelay   NASDelay  SecurityDelay  \\\n",
       "0       1  63.047133     19.354470      3.530053  14.407299       0.102711   \n",
       "1       2  64.170790     18.507422      4.207895  14.532052       0.086024   \n",
       "2       3  62.081595     19.188412      3.610672  13.664191       0.111840   \n",
       "3       4  59.414580     19.657297      2.748136  13.616508       0.077583   \n",
       "4       5  58.371703     18.068723      2.523910  14.009781       0.102340   \n",
       "5       6  66.167549     18.124587      4.179695  17.568216       0.077266   \n",
       "6       7  68.081228     20.168679      4.648513  17.511306       0.109670   \n",
       "7       8  64.612224     21.107413      3.961263  14.723465       0.073378   \n",
       "8       9  57.814318     21.715276      2.807024  14.169841       0.085064   \n",
       "9      10  54.341281     19.950980      1.836139  12.343436       0.090892   \n",
       "10     11  60.461676     17.460876      2.183476  16.861017       0.062648   \n",
       "11     12  69.083319     18.321837      5.281680  15.136794       0.085476   \n",
       "\n",
       "    LateAircraftDelay  \n",
       "0           25.652600  \n",
       "1           26.837397  \n",
       "2           25.506481  \n",
       "3           23.315056  \n",
       "4           23.666948  \n",
       "5           26.217786  \n",
       "6           25.643061  \n",
       "7           24.746705  \n",
       "8           19.037111  \n",
       "9           20.119834  \n",
       "10          23.893658  \n",
       "11          30.257531  "
      ]
     },
     "execution_count": 21,
     "metadata": {},
     "output_type": "execute_result"
    }
   ],
   "source": [
    "delay_by_month.sort_values(by='Month')"
   ]
  },
  {
   "cell_type": "code",
   "execution_count": 22,
   "metadata": {},
   "outputs": [
    {
     "data": {
      "text/plain": [
       "[<matplotlib.lines.Line2D at 0x7fccaa5f0eb8>]"
      ]
     },
     "execution_count": 22,
     "metadata": {},
     "output_type": "execute_result"
    },
    {
     "data": {
      "image/png": "[encoded data removed]",
      "text/plain": [
       "<Figure size 432x288 with 1 Axes>"
      ]
     },
     "metadata": {
      "needs_background": "light"
     },
     "output_type": "display_data"
    }
   ],
   "source": [
    "month_map = {1:'Jan',2:'Feb',3:'Mar',4:'Apr',5:'May',6:'Jun',7:'Jul',8:'Aug',9:'Sep',10:'Oct',11:'Nov',12:'Dec'}\n",
    "\n",
    "arr_del = delay_by_month['ArrDelay']\n",
    "month_del = delay_by_month['Month']\n",
    "\n",
    "xnew = np.linspace(arr_del.index.min(), arr_del.index.max(), 300)\n",
    "\n",
    "power_smooth = spline(arr_del.index,list(arr_del),xnew)\n",
    "\n",
    "plt.xticks(np.arange(12), month_map.values(), rotation=90)\n",
    "\n",
    "plt.plot(xnew,power_smooth)"
   ]
  },
  {
   "cell_type": "markdown",
   "metadata": {},
   "source": [
    "The graph above indicates that the Summer period, May, June, July and Winter period, December, January, February result in a spike of delays. <br>\n",
    "Autumn and Spring provide the least amount of delay on average with Spring being minutely ahead."
   ]
  },
  {
   "cell_type": "markdown",
   "metadata": {},
   "source": [
    "#### Which flight routes have the most arrival delay?"
   ]
  },
  {
   "cell_type": "code",
   "execution_count": 23,
   "metadata": {},
   "outputs": [
    {
     "name": "stdout",
     "output_type": "stream",
     "text": [
      "There are, 5086 unique routes.\n"
     ]
    }
   ],
   "source": [
    "print(\"There are,\", len(df['Route'].unique()), \"unique routes.\")"
   ]
  },
  {
   "cell_type": "code",
   "execution_count": 24,
   "metadata": {},
   "outputs": [
    {
     "name": "stdout",
     "output_type": "stream",
     "text": [
      "The average number of flights on a route are: 245.27880456154148\n"
     ]
    }
   ],
   "source": [
    "print(\"The average number of flights on a route are:\", df['Route'].value_counts().mean())"
   ]
  },
  {
   "cell_type": "code",
   "execution_count": 25,
   "metadata": {},
   "outputs": [
    {
     "name": "stdout",
     "output_type": "stream",
     "text": [
      "Removing routes with less than average flights results in a data set that is 93.89 percent of the cleaned dataset.\n"
     ]
    }
   ],
   "source": [
    "reduction_245 = len(df[df['Route'] <= 245])\n",
    "reduced_total = round((df.shape[0] - reduction_245) / df.shape[0] * 100,2)\n",
    "\n",
    "print(\"Removing routes with less than average flights results in a data set that is\", reduced_total, \"percent of the cleaned dataset.\")\n"
   ]
  },
  {
   "cell_type": "code",
   "execution_count": 26,
   "metadata": {},
   "outputs": [
    {
     "data": {
      "text/html": [
       "<div>\n",
       "<style scoped>\n",
       "    .dataframe tbody tr th:only-of-type {\n",
       "        vertical-align: middle;\n",
       "    }\n",
       "\n",
       "    .dataframe tbody tr th {\n",
       "        vertical-align: top;\n",
       "    }\n",
       "\n",
       "    .dataframe thead th {\n",
       "        text-align: right;\n",
       "    }\n",
       "</style>\n",
       "<table border=\"1\" class=\"dataframe\">\n",
       "  <thead>\n",
       "    <tr style=\"text-align: right;\">\n",
       "      <th></th>\n",
       "      <th>Route</th>\n",
       "      <th>CarrierDelay</th>\n",
       "      <th>WeatherDelay</th>\n",
       "      <th>NASDelay</th>\n",
       "      <th>SecurityDelay</th>\n",
       "      <th>LateAircraftDelay</th>\n",
       "      <th>TotalDelay</th>\n",
       "    </tr>\n",
       "  </thead>\n",
       "  <tbody>\n",
       "    <tr>\n",
       "      <th>979</th>\n",
       "      <td>CMI - SPI</td>\n",
       "      <td>545.0</td>\n",
       "      <td>0.0</td>\n",
       "      <td>0.0</td>\n",
       "      <td>0.0</td>\n",
       "      <td>30.0</td>\n",
       "      <td>575.0</td>\n",
       "    </tr>\n",
       "  </tbody>\n",
       "</table>\n",
       "</div>"
      ],
      "text/plain": [
       "         Route  CarrierDelay  WeatherDelay  NASDelay  SecurityDelay  \\\n",
       "979  CMI - SPI         545.0           0.0       0.0            0.0   \n",
       "\n",
       "     LateAircraftDelay  TotalDelay  \n",
       "979               30.0       575.0  "
      ]
     },
     "execution_count": 26,
     "metadata": {},
     "output_type": "execute_result"
    }
   ],
   "source": [
    "delay_by_route = (df.groupby('Route', as_index=False)\n",
    "       .agg({'CarrierDelay':'mean', 'WeatherDelay':'mean','NASDelay':'mean','SecurityDelay':'mean','LateAircraftDelay':'mean'}))\n",
    "\n",
    "delay_by_route['TotalDelay'] = delay_by_route['CarrierDelay'] + delay_by_route['WeatherDelay'] + delay_by_route['NASDelay'] + delay_by_route['SecurityDelay'] + delay_by_route['LateAircraftDelay']\n",
    "\n",
    "delay_by_route.sort_values(by='TotalDelay')\n",
    "\n",
    "route_979 = delay_by_route[delay_by_route['Route'] == 979]\n",
    "\n",
    "route_979['Route'] = route_979['Route'].map(unique_route_dict)\n",
    "\n",
    "route_979"
   ]
  },
  {
   "cell_type": "markdown",
   "metadata": {},
   "source": [
    "As can be seen above there is a total delay of 575 minutes, almost 10 hours! There is only one record for this route in the dataset. The flight from Champaign, Illinois (CMI) to Springfield, Illinois (SPI).\n",
    "\n",
    "I have made the decision to drop any route with less than 245 cords, this is based on the average flights per route over the course of the year.\n",
    "\n",
    "Futher data collection could be gathered on the dropped routes but as this is a general look into airline delays I have chosen not to."
   ]
  },
  {
   "cell_type": "code",
   "execution_count": 27,
   "metadata": {},
   "outputs": [],
   "source": [
    "route_count = df['Route'].value_counts()"
   ]
  },
  {
   "cell_type": "code",
   "execution_count": 28,
   "metadata": {},
   "outputs": [
    {
     "name": "stdout",
     "output_type": "stream",
     "text": [
      "Total unique routes: 5086\n",
      "Routes with more than 52 records: 3781\n"
     ]
    }
   ],
   "source": [
    "print(\"Total unique routes:\", route_count.shape[0])\n",
    "print(\"Routes with more than 52 records:\", route_count[route_count >= 52].shape[0])"
   ]
  },
  {
   "cell_type": "code",
   "execution_count": 29,
   "metadata": {},
   "outputs": [],
   "source": [
    "routes_to_drop = route_count[route_count <= 245].index.tolist()"
   ]
  },
  {
   "cell_type": "code",
   "execution_count": 30,
   "metadata": {},
   "outputs": [],
   "source": [
    "for route in routes_to_drop:\n",
    "    df.loc[df['Route'] == route] = np.NaN"
   ]
  },
  {
   "cell_type": "code",
   "execution_count": 31,
   "metadata": {},
   "outputs": [
    {
     "data": {
      "text/plain": [
       "(1590,)"
      ]
     },
     "execution_count": 31,
     "metadata": {},
     "output_type": "execute_result"
    }
   ],
   "source": [
    "df = df.dropna()\n",
    "df['Route'].value_counts().shape"
   ]
  },
  {
   "cell_type": "code",
   "execution_count": 32,
   "metadata": {},
   "outputs": [],
   "source": [
    "df = df.reset_index()"
   ]
  },
  {
   "cell_type": "code",
   "execution_count": 33,
   "metadata": {},
   "outputs": [],
   "source": [
    "df = df.drop('index', axis=1)"
   ]
  },
  {
   "cell_type": "code",
   "execution_count": 34,
   "metadata": {},
   "outputs": [],
   "source": [
    "delay_by_route = (df.groupby('Route', as_index=False)\n",
    "       .agg({'CarrierDelay':'mean', 'WeatherDelay':'mean','NASDelay':'mean','SecurityDelay':'mean','LateAircraftDelay':'mean','ArrDelay':'mean'}))"
   ]
  },
  {
   "cell_type": "code",
   "execution_count": 35,
   "metadata": {},
   "outputs": [],
   "source": [
    "five_least_delayed = delay_by_route.sort_values(by='ArrDelay')[0:20]\n",
    "five_least_delayed['Route'] = five_least_delayed['Route'].map(unique_route_dict)"
   ]
  },
  {
   "cell_type": "code",
   "execution_count": 36,
   "metadata": {},
   "outputs": [
    {
     "data": {
      "text/html": [
       "<div>\n",
       "<style scoped>\n",
       "    .dataframe tbody tr th:only-of-type {\n",
       "        vertical-align: middle;\n",
       "    }\n",
       "\n",
       "    .dataframe tbody tr th {\n",
       "        vertical-align: top;\n",
       "    }\n",
       "\n",
       "    .dataframe thead th {\n",
       "        text-align: right;\n",
       "    }\n",
       "</style>\n",
       "<table border=\"1\" class=\"dataframe\">\n",
       "  <thead>\n",
       "    <tr style=\"text-align: right;\">\n",
       "      <th></th>\n",
       "      <th>Route</th>\n",
       "      <th>CarrierDelay</th>\n",
       "      <th>WeatherDelay</th>\n",
       "      <th>NASDelay</th>\n",
       "      <th>SecurityDelay</th>\n",
       "      <th>LateAircraftDelay</th>\n",
       "      <th>ArrDelay</th>\n",
       "    </tr>\n",
       "  </thead>\n",
       "  <tbody>\n",
       "    <tr>\n",
       "      <th>1103</th>\n",
       "      <td>OAK - SNA</td>\n",
       "      <td>11.180751</td>\n",
       "      <td>1.507042</td>\n",
       "      <td>1.673709</td>\n",
       "      <td>0.138498</td>\n",
       "      <td>23.661972</td>\n",
       "      <td>38.161972</td>\n",
       "    </tr>\n",
       "    <tr>\n",
       "      <th>1516</th>\n",
       "      <td>SMF - SNA</td>\n",
       "      <td>8.757009</td>\n",
       "      <td>1.856698</td>\n",
       "      <td>1.744548</td>\n",
       "      <td>0.102804</td>\n",
       "      <td>25.710280</td>\n",
       "      <td>38.171340</td>\n",
       "    </tr>\n",
       "    <tr>\n",
       "      <th>649</th>\n",
       "      <td>HNL - OGG</td>\n",
       "      <td>27.478947</td>\n",
       "      <td>0.567368</td>\n",
       "      <td>2.957895</td>\n",
       "      <td>0.314737</td>\n",
       "      <td>7.687368</td>\n",
       "      <td>39.006316</td>\n",
       "    </tr>\n",
       "    <tr>\n",
       "      <th>648</th>\n",
       "      <td>HNL - LIH</td>\n",
       "      <td>27.701068</td>\n",
       "      <td>0.449585</td>\n",
       "      <td>1.691578</td>\n",
       "      <td>0.186240</td>\n",
       "      <td>9.416370</td>\n",
       "      <td>39.444840</td>\n",
       "    </tr>\n",
       "    <tr>\n",
       "      <th>645</th>\n",
       "      <td>HNL - ITO</td>\n",
       "      <td>28.918079</td>\n",
       "      <td>1.035311</td>\n",
       "      <td>2.974576</td>\n",
       "      <td>0.100282</td>\n",
       "      <td>6.588983</td>\n",
       "      <td>39.617232</td>\n",
       "    </tr>\n",
       "  </tbody>\n",
       "</table>\n",
       "</div>"
      ],
      "text/plain": [
       "          Route  CarrierDelay  WeatherDelay  NASDelay  SecurityDelay  \\\n",
       "1103  OAK - SNA     11.180751      1.507042  1.673709       0.138498   \n",
       "1516  SMF - SNA      8.757009      1.856698  1.744548       0.102804   \n",
       "649   HNL - OGG     27.478947      0.567368  2.957895       0.314737   \n",
       "648   HNL - LIH     27.701068      0.449585  1.691578       0.186240   \n",
       "645   HNL - ITO     28.918079      1.035311  2.974576       0.100282   \n",
       "\n",
       "      LateAircraftDelay   ArrDelay  \n",
       "1103          23.661972  38.161972  \n",
       "1516          25.710280  38.171340  \n",
       "649            7.687368  39.006316  \n",
       "648            9.416370  39.444840  \n",
       "645            6.588983  39.617232  "
      ]
     },
     "execution_count": 36,
     "metadata": {},
     "output_type": "execute_result"
    }
   ],
   "source": [
    "five_least_delayed.head()"
   ]
  },
  {
   "cell_type": "markdown",
   "metadata": {},
   "source": [
    "Above are the five least delayed routes."
   ]
  },
  {
   "cell_type": "code",
   "execution_count": 37,
   "metadata": {},
   "outputs": [],
   "source": [
    "five_most_delayed = delay_by_route.sort_values(by='ArrDelay')[delay_by_route.shape[0] - 20:delay_by_route.shape[0]]\n",
    "five_most_delayed['Route'] = five_most_delayed['Route'].map(unique_route_dict)"
   ]
  },
  {
   "cell_type": "code",
   "execution_count": 38,
   "metadata": {},
   "outputs": [
    {
     "data": {
      "text/html": [
       "<div>\n",
       "<style scoped>\n",
       "    .dataframe tbody tr th:only-of-type {\n",
       "        vertical-align: middle;\n",
       "    }\n",
       "\n",
       "    .dataframe tbody tr th {\n",
       "        vertical-align: top;\n",
       "    }\n",
       "\n",
       "    .dataframe thead th {\n",
       "        text-align: right;\n",
       "    }\n",
       "</style>\n",
       "<table border=\"1\" class=\"dataframe\">\n",
       "  <thead>\n",
       "    <tr style=\"text-align: right;\">\n",
       "      <th></th>\n",
       "      <th>Route</th>\n",
       "      <th>CarrierDelay</th>\n",
       "      <th>WeatherDelay</th>\n",
       "      <th>NASDelay</th>\n",
       "      <th>SecurityDelay</th>\n",
       "      <th>LateAircraftDelay</th>\n",
       "      <th>ArrDelay</th>\n",
       "    </tr>\n",
       "  </thead>\n",
       "  <tbody>\n",
       "    <tr>\n",
       "      <th>1005</th>\n",
       "      <td>MEM - EWR</td>\n",
       "      <td>5.864198</td>\n",
       "      <td>2.695473</td>\n",
       "      <td>71.053498</td>\n",
       "      <td>0.000000</td>\n",
       "      <td>14.012346</td>\n",
       "      <td>93.625514</td>\n",
       "    </tr>\n",
       "    <tr>\n",
       "      <th>201</th>\n",
       "      <td>BUF - JFK</td>\n",
       "      <td>16.546174</td>\n",
       "      <td>4.321900</td>\n",
       "      <td>46.010554</td>\n",
       "      <td>0.044855</td>\n",
       "      <td>26.915567</td>\n",
       "      <td>93.839050</td>\n",
       "    </tr>\n",
       "    <tr>\n",
       "      <th>1353</th>\n",
       "      <td>RIC - EWR</td>\n",
       "      <td>14.737864</td>\n",
       "      <td>2.116505</td>\n",
       "      <td>66.036408</td>\n",
       "      <td>0.000000</td>\n",
       "      <td>11.029126</td>\n",
       "      <td>93.919903</td>\n",
       "    </tr>\n",
       "    <tr>\n",
       "      <th>796</th>\n",
       "      <td>JFK - ORD</td>\n",
       "      <td>19.338491</td>\n",
       "      <td>8.382012</td>\n",
       "      <td>45.590909</td>\n",
       "      <td>0.198259</td>\n",
       "      <td>20.606383</td>\n",
       "      <td>94.116054</td>\n",
       "    </tr>\n",
       "    <tr>\n",
       "      <th>1</th>\n",
       "      <td>ABI - DFW</td>\n",
       "      <td>49.184211</td>\n",
       "      <td>15.789474</td>\n",
       "      <td>13.545113</td>\n",
       "      <td>0.000000</td>\n",
       "      <td>16.368421</td>\n",
       "      <td>94.887218</td>\n",
       "    </tr>\n",
       "  </tbody>\n",
       "</table>\n",
       "</div>"
      ],
      "text/plain": [
       "          Route  CarrierDelay  WeatherDelay   NASDelay  SecurityDelay  \\\n",
       "1005  MEM - EWR      5.864198      2.695473  71.053498       0.000000   \n",
       "201   BUF - JFK     16.546174      4.321900  46.010554       0.044855   \n",
       "1353  RIC - EWR     14.737864      2.116505  66.036408       0.000000   \n",
       "796   JFK - ORD     19.338491      8.382012  45.590909       0.198259   \n",
       "1     ABI - DFW     49.184211     15.789474  13.545113       0.000000   \n",
       "\n",
       "      LateAircraftDelay   ArrDelay  \n",
       "1005          14.012346  93.625514  \n",
       "201           26.915567  93.839050  \n",
       "1353          11.029126  93.919903  \n",
       "796           20.606383  94.116054  \n",
       "1             16.368421  94.887218  "
      ]
     },
     "execution_count": 38,
     "metadata": {},
     "output_type": "execute_result"
    }
   ],
   "source": [
    "five_most_delayed.head()"
   ]
  },
  {
   "cell_type": "markdown",
   "metadata": {},
   "source": [
    "Above are the five most delayed routes."
   ]
  },
  {
   "cell_type": "code",
   "execution_count": 39,
   "metadata": {},
   "outputs": [],
   "source": [
    "def get_lat_long(delay_df, airports_locations):\n",
    "    \"\"\"\n",
    "    This function is designed to take in the IATA codes of an airport in the format \"DEP - ARR\" and return the Lat/Long pairs.\n",
    "    delay_df - The dataframe containing the IATA code \"DEP - ARR\" under the 'Route' column.\n",
    "    airports_locations - The datframe containing the IATA, Latitude and Longitude of each airport\n",
    "    \"\"\"\n",
    "    data = {'Orig': [],'Dest': [],'OrigLat': [], 'OrigLon': [], 'DestLat': [], 'DestLon': []}\n",
    "    loc_df = pd.DataFrame(data=data)\n",
    "    \n",
    "    temp_df = delay_df['Route'].str.split('-',expand=True)\n",
    "    \n",
    "    temp_df['Origin'] = temp_df[0].str.replace(' ','')\n",
    "    temp_df['Destination'] = temp_df[1].str.replace(' ','')\n",
    "    temp_df = temp_df.drop([0,1], axis=1)\n",
    "    \n",
    "    for origin,destination in zip(temp_df['Origin'],temp_df['Destination']): \n",
    "        orig_lat = airports_locations[airports_locations['IATA'] == origin]['Latitude'].values[0]\n",
    "        orig_lon = airports_locations[airports_locations['IATA'] == origin]['Longitude'].values[0]\n",
    "        \n",
    "        dest_lat = airports_locations[airports_locations['IATA'] == destination]['Latitude'].values[0]\n",
    "        dest_lon = airports_locations[airports_locations['IATA'] == destination]['Longitude'].values[0]                 \n",
    "        \n",
    "        l_df = pd.DataFrame({'Orig': [origin],'Dest': [destination],'OrigLat': [orig_lat], 'OrigLon': [orig_lon], 'DestLat': [dest_lat], 'DestLon': [dest_lon]})\n",
    "        l_df['OrigCoordinates'] = list(zip(l_df['OrigLon'], l_df['OrigLat']))\n",
    "        l_df['DestCoordinates'] = list(zip(l_df['DestLon'], l_df['DestLat']))\n",
    "        l_df['OrigCoordinates'] = l_df['OrigCoordinates'].apply(Point)\n",
    "        l_df['DestCoordinates'] = l_df['DestCoordinates'].apply(Point)\n",
    "        l_df['Lines'] = LineString(list(zip((l_df['OrigLon'],l_df['DestLon']),(l_df['OrigLat'],l_df['DestLat']))))\n",
    "        loc_df = pd.concat([loc_df,l_df])        \n",
    "    \n",
    "    loc_df = loc_df.reset_index()\n",
    "    loc_df = loc_df.drop('index', axis=1)\n",
    "    return loc_df"
   ]
  },
  {
   "cell_type": "code",
   "execution_count": 40,
   "metadata": {},
   "outputs": [],
   "source": [
    "airport_loc = airports[['IATA','Latitude','Longitude']]"
   ]
  },
  {
   "cell_type": "code",
   "execution_count": 41,
   "metadata": {},
   "outputs": [],
   "source": [
    "most_lat_lon = get_lat_long(five_most_delayed, airport_loc)\n",
    "least_lat_lon = get_lat_long(five_least_delayed, airport_loc)"
   ]
  },
  {
   "cell_type": "code",
   "execution_count": 42,
   "metadata": {},
   "outputs": [],
   "source": [
    "gdf_most_orig = geopandas.GeoDataFrame(most_lat_lon, geometry='OrigCoordinates')\n",
    "gdf_most_dest = geopandas.GeoDataFrame(most_lat_lon, geometry='DestCoordinates')\n",
    "gdf_most_line = geopandas.GeoDataFrame(most_lat_lon, geometry='Lines')\n",
    "\n",
    "gdf_least_orig = geopandas.GeoDataFrame(least_lat_lon, geometry='OrigCoordinates')\n",
    "gdf_least_dest = geopandas.GeoDataFrame(least_lat_lon, geometry='DestCoordinates')\n",
    "gdf_least_line = geopandas.GeoDataFrame(least_lat_lon, geometry='Lines')"
   ]
  },
  {
   "cell_type": "code",
   "execution_count": 43,
   "metadata": {},
   "outputs": [
    {
     "data": {
      "text/plain": [
       "<matplotlib.axes._subplots.AxesSubplot at 0x7fccaa4b1710>"
      ]
     },
     "execution_count": 43,
     "metadata": {},
     "output_type": "execute_result"
    },
    {
     "data": {
      "image/png": "[encoded data removed]",
      "text/plain": [
       "<Figure size 1440x1800 with 1 Axes>"
      ]
     },
     "metadata": {
      "needs_background": "light"
     },
     "output_type": "display_data"
    }
   ],
   "source": [
    "world = geopandas.read_file(geopandas.datasets.get_path('naturalearth_lowres'))\n",
    "ax = world[world.continent == 'North America'].plot(\n",
    "    color='white', edgecolor='black',figsize=[20,25])\n",
    "\n",
    "gdf_most_orig.plot(ax=ax, color='red')\n",
    "gdf_most_dest.plot(ax=ax, color='red')\n",
    "gdf_most_line.plot(ax=ax, color='green')\n",
    "\n",
    "gdf_least_orig.plot(ax=ax, color='blue')\n",
    "gdf_least_dest.plot(ax=ax, color='blue')\n",
    "gdf_least_line.plot(ax=ax, color='purple')"
   ]
  },
  {
   "cell_type": "markdown",
   "metadata": {},
   "source": [
    "Taking a look at the top 20 flights from each pool of data, the plot above shows that there is an East/West division. This is only on a small sample of data but further investigation into geographic cause for delays is merited.\n"
   ]
  },
  {
   "cell_type": "markdown",
   "metadata": {},
   "source": [
    "#### Which airline is the most reliable?"
   ]
  },
  {
   "cell_type": "code",
   "execution_count": 44,
   "metadata": {},
   "outputs": [
    {
     "data": {
      "text/html": [
       "<div>\n",
       "<style scoped>\n",
       "    .dataframe tbody tr th:only-of-type {\n",
       "        vertical-align: middle;\n",
       "    }\n",
       "\n",
       "    .dataframe tbody tr th {\n",
       "        vertical-align: top;\n",
       "    }\n",
       "\n",
       "    .dataframe thead th {\n",
       "        text-align: right;\n",
       "    }\n",
       "</style>\n",
       "<table border=\"1\" class=\"dataframe\">\n",
       "  <thead>\n",
       "    <tr style=\"text-align: right;\">\n",
       "      <th></th>\n",
       "      <th>UniqueCarrier</th>\n",
       "      <th>CarrierDelay</th>\n",
       "      <th>WeatherDelay</th>\n",
       "      <th>NASDelay</th>\n",
       "      <th>SecurityDelay</th>\n",
       "      <th>LateAircraftDelay</th>\n",
       "      <th>ArrDelay</th>\n",
       "    </tr>\n",
       "  </thead>\n",
       "  <tbody>\n",
       "    <tr>\n",
       "      <th>2</th>\n",
       "      <td>AQ</td>\n",
       "      <td>19.513636</td>\n",
       "      <td>1.700000</td>\n",
       "      <td>0.286364</td>\n",
       "      <td>0.109091</td>\n",
       "      <td>15.681818</td>\n",
       "      <td>37.290909</td>\n",
       "    </tr>\n",
       "    <tr>\n",
       "      <th>10</th>\n",
       "      <td>HA</td>\n",
       "      <td>22.822713</td>\n",
       "      <td>0.404416</td>\n",
       "      <td>0.082019</td>\n",
       "      <td>0.003470</td>\n",
       "      <td>20.738486</td>\n",
       "      <td>44.051104</td>\n",
       "    </tr>\n",
       "    <tr>\n",
       "      <th>8</th>\n",
       "      <td>F9</td>\n",
       "      <td>15.289548</td>\n",
       "      <td>1.177665</td>\n",
       "      <td>16.518062</td>\n",
       "      <td>0.026904</td>\n",
       "      <td>11.794261</td>\n",
       "      <td>44.806441</td>\n",
       "    </tr>\n",
       "    <tr>\n",
       "      <th>17</th>\n",
       "      <td>WN</td>\n",
       "      <td>10.829341</td>\n",
       "      <td>2.440803</td>\n",
       "      <td>6.522827</td>\n",
       "      <td>0.121050</td>\n",
       "      <td>32.567895</td>\n",
       "      <td>52.481916</td>\n",
       "    </tr>\n",
       "    <tr>\n",
       "      <th>3</th>\n",
       "      <td>AS</td>\n",
       "      <td>20.614575</td>\n",
       "      <td>1.389338</td>\n",
       "      <td>11.456248</td>\n",
       "      <td>0.209520</td>\n",
       "      <td>23.008596</td>\n",
       "      <td>56.678278</td>\n",
       "    </tr>\n",
       "    <tr>\n",
       "      <th>16</th>\n",
       "      <td>US</td>\n",
       "      <td>17.408340</td>\n",
       "      <td>1.621542</td>\n",
       "      <td>16.789014</td>\n",
       "      <td>0.164697</td>\n",
       "      <td>23.288029</td>\n",
       "      <td>59.271622</td>\n",
       "    </tr>\n",
       "    <tr>\n",
       "      <th>12</th>\n",
       "      <td>NW</td>\n",
       "      <td>23.933958</td>\n",
       "      <td>6.527114</td>\n",
       "      <td>14.183552</td>\n",
       "      <td>0.066583</td>\n",
       "      <td>14.793333</td>\n",
       "      <td>59.504540</td>\n",
       "    </tr>\n",
       "    <tr>\n",
       "      <th>6</th>\n",
       "      <td>DL</td>\n",
       "      <td>19.236098</td>\n",
       "      <td>2.297625</td>\n",
       "      <td>17.598208</td>\n",
       "      <td>0.015798</td>\n",
       "      <td>22.012629</td>\n",
       "      <td>61.160358</td>\n",
       "    </tr>\n",
       "    <tr>\n",
       "      <th>11</th>\n",
       "      <td>MQ</td>\n",
       "      <td>16.688889</td>\n",
       "      <td>4.035623</td>\n",
       "      <td>15.821536</td>\n",
       "      <td>0.010894</td>\n",
       "      <td>26.752530</td>\n",
       "      <td>63.309472</td>\n",
       "    </tr>\n",
       "    <tr>\n",
       "      <th>9</th>\n",
       "      <td>FL</td>\n",
       "      <td>9.283038</td>\n",
       "      <td>0.769921</td>\n",
       "      <td>16.179481</td>\n",
       "      <td>0.000000</td>\n",
       "      <td>37.142972</td>\n",
       "      <td>63.375412</td>\n",
       "    </tr>\n",
       "    <tr>\n",
       "      <th>0</th>\n",
       "      <td>9E</td>\n",
       "      <td>22.594075</td>\n",
       "      <td>3.706167</td>\n",
       "      <td>14.747158</td>\n",
       "      <td>0.046191</td>\n",
       "      <td>24.020919</td>\n",
       "      <td>65.114510</td>\n",
       "    </tr>\n",
       "    <tr>\n",
       "      <th>1</th>\n",
       "      <td>AA</td>\n",
       "      <td>20.666595</td>\n",
       "      <td>3.135844</td>\n",
       "      <td>16.541336</td>\n",
       "      <td>0.049063</td>\n",
       "      <td>24.919256</td>\n",
       "      <td>65.312095</td>\n",
       "    </tr>\n",
       "    <tr>\n",
       "      <th>7</th>\n",
       "      <td>EV</td>\n",
       "      <td>29.605823</td>\n",
       "      <td>9.387730</td>\n",
       "      <td>15.467063</td>\n",
       "      <td>0.053907</td>\n",
       "      <td>11.641248</td>\n",
       "      <td>66.155771</td>\n",
       "    </tr>\n",
       "    <tr>\n",
       "      <th>5</th>\n",
       "      <td>CO</td>\n",
       "      <td>16.276000</td>\n",
       "      <td>3.350470</td>\n",
       "      <td>27.422936</td>\n",
       "      <td>0.203815</td>\n",
       "      <td>20.734839</td>\n",
       "      <td>67.988059</td>\n",
       "    </tr>\n",
       "    <tr>\n",
       "      <th>14</th>\n",
       "      <td>OO</td>\n",
       "      <td>17.213133</td>\n",
       "      <td>2.649009</td>\n",
       "      <td>21.964765</td>\n",
       "      <td>0.103294</td>\n",
       "      <td>26.273598</td>\n",
       "      <td>68.203799</td>\n",
       "    </tr>\n",
       "    <tr>\n",
       "      <th>15</th>\n",
       "      <td>UA</td>\n",
       "      <td>17.453763</td>\n",
       "      <td>2.215547</td>\n",
       "      <td>16.005783</td>\n",
       "      <td>0.016156</td>\n",
       "      <td>33.878736</td>\n",
       "      <td>69.569985</td>\n",
       "    </tr>\n",
       "    <tr>\n",
       "      <th>13</th>\n",
       "      <td>OH</td>\n",
       "      <td>26.079201</td>\n",
       "      <td>18.435604</td>\n",
       "      <td>22.303708</td>\n",
       "      <td>0.031185</td>\n",
       "      <td>4.429394</td>\n",
       "      <td>71.279093</td>\n",
       "    </tr>\n",
       "    <tr>\n",
       "      <th>18</th>\n",
       "      <td>XE</td>\n",
       "      <td>15.688760</td>\n",
       "      <td>3.260185</td>\n",
       "      <td>27.036264</td>\n",
       "      <td>0.169117</td>\n",
       "      <td>26.668219</td>\n",
       "      <td>72.822544</td>\n",
       "    </tr>\n",
       "    <tr>\n",
       "      <th>19</th>\n",
       "      <td>YV</td>\n",
       "      <td>36.082741</td>\n",
       "      <td>3.547246</td>\n",
       "      <td>16.101362</td>\n",
       "      <td>0.171538</td>\n",
       "      <td>17.769887</td>\n",
       "      <td>73.672773</td>\n",
       "    </tr>\n",
       "    <tr>\n",
       "      <th>4</th>\n",
       "      <td>B6</td>\n",
       "      <td>16.594035</td>\n",
       "      <td>1.547822</td>\n",
       "      <td>29.447650</td>\n",
       "      <td>0.045016</td>\n",
       "      <td>33.385908</td>\n",
       "      <td>81.020431</td>\n",
       "    </tr>\n",
       "  </tbody>\n",
       "</table>\n",
       "</div>"
      ],
      "text/plain": [
       "   UniqueCarrier  CarrierDelay  WeatherDelay   NASDelay  SecurityDelay  \\\n",
       "2             AQ     19.513636      1.700000   0.286364       0.109091   \n",
       "10            HA     22.822713      0.404416   0.082019       0.003470   \n",
       "8             F9     15.289548      1.177665  16.518062       0.026904   \n",
       "17            WN     10.829341      2.440803   6.522827       0.121050   \n",
       "3             AS     20.614575      1.389338  11.456248       0.209520   \n",
       "16            US     17.408340      1.621542  16.789014       0.164697   \n",
       "12            NW     23.933958      6.527114  14.183552       0.066583   \n",
       "6             DL     19.236098      2.297625  17.598208       0.015798   \n",
       "11            MQ     16.688889      4.035623  15.821536       0.010894   \n",
       "9             FL      9.283038      0.769921  16.179481       0.000000   \n",
       "0             9E     22.594075      3.706167  14.747158       0.046191   \n",
       "1             AA     20.666595      3.135844  16.541336       0.049063   \n",
       "7             EV     29.605823      9.387730  15.467063       0.053907   \n",
       "5             CO     16.276000      3.350470  27.422936       0.203815   \n",
       "14            OO     17.213133      2.649009  21.964765       0.103294   \n",
       "15            UA     17.453763      2.215547  16.005783       0.016156   \n",
       "13            OH     26.079201     18.435604  22.303708       0.031185   \n",
       "18            XE     15.688760      3.260185  27.036264       0.169117   \n",
       "19            YV     36.082741      3.547246  16.101362       0.171538   \n",
       "4             B6     16.594035      1.547822  29.447650       0.045016   \n",
       "\n",
       "    LateAircraftDelay   ArrDelay  \n",
       "2           15.681818  37.290909  \n",
       "10          20.738486  44.051104  \n",
       "8           11.794261  44.806441  \n",
       "17          32.567895  52.481916  \n",
       "3           23.008596  56.678278  \n",
       "16          23.288029  59.271622  \n",
       "12          14.793333  59.504540  \n",
       "6           22.012629  61.160358  \n",
       "11          26.752530  63.309472  \n",
       "9           37.142972  63.375412  \n",
       "0           24.020919  65.114510  \n",
       "1           24.919256  65.312095  \n",
       "7           11.641248  66.155771  \n",
       "5           20.734839  67.988059  \n",
       "14          26.273598  68.203799  \n",
       "15          33.878736  69.569985  \n",
       "13           4.429394  71.279093  \n",
       "18          26.668219  72.822544  \n",
       "19          17.769887  73.672773  \n",
       "4           33.385908  81.020431  "
      ]
     },
     "execution_count": 44,
     "metadata": {},
     "output_type": "execute_result"
    }
   ],
   "source": [
    "delay_carrier_mean = (df.groupby('UniqueCarrier', as_index=False)\n",
    "       .agg({'CarrierDelay':'mean', 'WeatherDelay':'mean','NASDelay':'mean','SecurityDelay':'mean','LateAircraftDelay':'mean','ArrDelay':'mean'}))\n",
    "\n",
    "delay_carrier_mean['UniqueCarrier'] = delay_carrier_mean['UniqueCarrier'].map(unique_carrier_dict)\n",
    "\n",
    "delay_carrier_mean.sort_values(by='ArrDelay')"
   ]
  },
  {
   "cell_type": "markdown",
   "metadata": {},
   "source": [
    "The above table shows the least to most delay by airline."
   ]
  },
  {
   "cell_type": "markdown",
   "metadata": {},
   "source": [
    "#### What is the leading cause for arrival delay in airlines?"
   ]
  },
  {
   "cell_type": "code",
   "execution_count": 45,
   "metadata": {},
   "outputs": [
    {
     "data": {
      "text/plain": [
       "CarrierDelay         18.061802\n",
       "WeatherDelay          3.467105\n",
       "NASDelay             16.457023\n",
       "SecurityDelay         0.079974\n",
       "LateAircraftDelay    25.565488\n",
       "dtype: float64"
      ]
     },
     "execution_count": 45,
     "metadata": {},
     "output_type": "execute_result"
    }
   ],
   "source": [
    "df[['CarrierDelay','WeatherDelay','NASDelay','SecurityDelay','LateAircraftDelay']].mean()"
   ]
  },
  {
   "cell_type": "markdown",
   "metadata": {},
   "source": [
    "The above data shows that late aircraft are the primary cause for delays, followed by airline and national airspace. Weather delay and security delays account for the minority of delays."
   ]
  },
  {
   "cell_type": "markdown",
   "metadata": {},
   "source": [
    "#### Deployment\n",
    "\n",
    "A final presentation of the data and results can be found at: https://ironraininc.com/blog/jekyll/update/2018/12/02/airlines-performance.html"
   ]
  }
 ],
 "metadata": {
  "kernelspec": {
   "display_name": "Python 3",
   "language": "python",
   "name": "python3"
  },
  "language_info": {
   "codemirror_mode": {
    "name": "ipython",
    "version": 3
   },
   "file_extension": ".py",
   "mimetype": "text/x-python",
   "name": "python",
   "nbconvert_exporter": "python",
   "pygments_lexer": "ipython3",
   "version": "3.7.1"
  }
 },
 "nbformat": 4,
 "nbformat_minor": 2
}
